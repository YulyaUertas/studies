{
 "cells": [
  {
   "cell_type": "markdown",
   "metadata": {},
   "source": [
    "# Описание проекта"
   ]
  },
  {
   "cell_type": "markdown",
   "metadata": {},
   "source": [
    "Мы — аналитики крупного интернет-магазина. Вместе с отделом маркетинга мы подготовили список гипотез для увеличения выручки.\n",
    "Приоритизируем гипотезы, запустим A/B-тест и проанализируем результаты. \n",
    "\n",
    "Проект состоит из двух частей:\n",
    "\n",
    "__Первая часть-приоритизация гипотез.__\n",
    "\n",
    "Будем использовать файл, в котором 9 гипотез по увеличению выручки интернет-магазина, где:\n",
    "* Hypothesis — краткое описание гипотезы;\n",
    "* Reach — охват пользователей по 10-балльной шкале;\n",
    "* Impact — влияние на пользователей по 10-балльной шкале;\n",
    "* Confidence — уверенность в гипотезе по 10-балльной шкале;\n",
    "* Efforts — затраты ресурсов на проверку гипотезы по 10-балльной шкале. Чем больше значение Efforts, тем дороже проверка гипотезы.\n",
    "\n",
    "Наша задача:\n",
    "* Применить фреймворк ICE для приоритизации гипотез. Отсортировать их по убыванию приоритета.\n",
    "* Применить фреймворк RICE для приоритизации гипотез. Отсортировать их по убыванию приоритета.\n",
    "* Указать, как изменилась приоритизация гипотез при применении RICE вместо ICE. Объяснить, почему так произошло.\n",
    "\n",
    "\n",
    "__Вторая часть-анализ A/B-теста.__\n",
    "\n",
    "\n",
    "Мы провели A/B-тест и получили результаты, которые описаны в файлах /datasets/orders.csv и /datasets/visitors.csv. В которых:\n",
    "\n",
    "Файл /datasets/orders.csv\n",
    "* transactionId — идентификатор заказа;\n",
    "* visitorId — идентификатор пользователя, совершившего заказ;\n",
    "* date — дата, когда был совершён заказ;\n",
    "* revenue — выручка заказа;\n",
    "* group — группа A/B-теста, в которую попал заказ.\n",
    "\n",
    "Файл /datasets/visitors.csv\n",
    "* date — дата;\n",
    "* group — группа A/B-теста;\n",
    "* visitors — количество пользователей в указанную дату в указанной группе A/B-теста\n",
    "\n",
    "Наша задача проанализировать А/В-тест, а именно:\n",
    "\n",
    "1. Постройть график кумулятивной выручки по группам.\n",
    "2. Постройть график кумулятивного среднего чека по группам. \n",
    "3. Постройть график относительного изменения кумулятивного среднего чека группы B к группе A.\n",
    "4. Постройть график кумулятивного среднего количества заказов на посетителя по группам. \n",
    "5. Постройть график относительного изменения кумулятивного среднего количества заказов на посетителя группы B к группе A. \n",
    "6. Постройть точечный график количества заказов по пользователям. \n",
    "7. Посчитать 95-й и 99-й перцентили количества заказов на пользователя. Выбрать границу для определения аномальных пользователей.\n",
    "8. Постройть точечный график стоимостей заказов.\n",
    "9. Посчитать 95-й и 99-й перцентили стоимости заказов. Выбрать границу для определения аномальных заказов.\n",
    "10. Посчитать статистическую значимость различий в среднем количестве заказов на посетителя между группами по «сырым» данным. \n",
    "11. Посчитать статистическую значимость различий в среднем чеке заказа между группами по «сырым» данным. \n",
    "12. Посчитать статистическую значимость различий в среднем количестве заказов на посетителя между группами по «очищенным» данным. \n",
    "13. Посчитать статистическую значимость различий в среднем чеке заказа между группами по «очищенным» данным. \n",
    "14. Принять решение по результатам теста и объяснить его. Варианты решений:\n",
    "*  Остановить тест, зафиксировать победу одной из групп.\n",
    "*  Остановить тест, зафиксировать отсутствие различий между группами.\n",
    "*  Продолжить тест.\n"
   ]
  },
  {
   "cell_type": "markdown",
   "metadata": {},
   "source": [
    "## Приоритизация гипотез."
   ]
  },
  {
   "cell_type": "code",
   "execution_count": 1,
   "metadata": {},
   "outputs": [],
   "source": [
    "import pandas as pd\n",
    "import scipy.stats as st\n",
    "import datetime as dt\n",
    "import numpy as np\n",
    "import matplotlib.pyplot as plt"
   ]
  },
  {
   "cell_type": "code",
   "execution_count": 2,
   "metadata": {},
   "outputs": [
    {
     "data": {
      "text/html": [
       "<div>\n",
       "<style scoped>\n",
       "    .dataframe tbody tr th:only-of-type {\n",
       "        vertical-align: middle;\n",
       "    }\n",
       "\n",
       "    .dataframe tbody tr th {\n",
       "        vertical-align: top;\n",
       "    }\n",
       "\n",
       "    .dataframe thead th {\n",
       "        text-align: right;\n",
       "    }\n",
       "</style>\n",
       "<table border=\"1\" class=\"dataframe\">\n",
       "  <thead>\n",
       "    <tr style=\"text-align: right;\">\n",
       "      <th></th>\n",
       "      <th>Hypothesis</th>\n",
       "      <th>Reach</th>\n",
       "      <th>Impact</th>\n",
       "      <th>Confidence</th>\n",
       "      <th>Efforts</th>\n",
       "    </tr>\n",
       "  </thead>\n",
       "  <tbody>\n",
       "    <tr>\n",
       "      <th>0</th>\n",
       "      <td>Добавить два новых канала привлечения трафика,...</td>\n",
       "      <td>3</td>\n",
       "      <td>10</td>\n",
       "      <td>8</td>\n",
       "      <td>6</td>\n",
       "    </tr>\n",
       "    <tr>\n",
       "      <th>1</th>\n",
       "      <td>Запустить собственную службу доставки, что сок...</td>\n",
       "      <td>2</td>\n",
       "      <td>5</td>\n",
       "      <td>4</td>\n",
       "      <td>10</td>\n",
       "    </tr>\n",
       "    <tr>\n",
       "      <th>2</th>\n",
       "      <td>Добавить блоки рекомендаций товаров на сайт ин...</td>\n",
       "      <td>8</td>\n",
       "      <td>3</td>\n",
       "      <td>7</td>\n",
       "      <td>3</td>\n",
       "    </tr>\n",
       "    <tr>\n",
       "      <th>3</th>\n",
       "      <td>Изменить структура категорий, что увеличит кон...</td>\n",
       "      <td>8</td>\n",
       "      <td>3</td>\n",
       "      <td>3</td>\n",
       "      <td>8</td>\n",
       "    </tr>\n",
       "    <tr>\n",
       "      <th>4</th>\n",
       "      <td>Изменить цвет фона главной страницы, чтобы уве...</td>\n",
       "      <td>3</td>\n",
       "      <td>1</td>\n",
       "      <td>1</td>\n",
       "      <td>1</td>\n",
       "    </tr>\n",
       "    <tr>\n",
       "      <th>5</th>\n",
       "      <td>Добавить страницу отзывов клиентов о магазине,...</td>\n",
       "      <td>3</td>\n",
       "      <td>2</td>\n",
       "      <td>2</td>\n",
       "      <td>3</td>\n",
       "    </tr>\n",
       "    <tr>\n",
       "      <th>6</th>\n",
       "      <td>Показать на главной странице баннеры с актуаль...</td>\n",
       "      <td>5</td>\n",
       "      <td>3</td>\n",
       "      <td>8</td>\n",
       "      <td>3</td>\n",
       "    </tr>\n",
       "    <tr>\n",
       "      <th>7</th>\n",
       "      <td>Добавить форму подписки на все основные страни...</td>\n",
       "      <td>10</td>\n",
       "      <td>7</td>\n",
       "      <td>8</td>\n",
       "      <td>5</td>\n",
       "    </tr>\n",
       "    <tr>\n",
       "      <th>8</th>\n",
       "      <td>Запустить акцию, дающую скидку на товар в день...</td>\n",
       "      <td>1</td>\n",
       "      <td>9</td>\n",
       "      <td>9</td>\n",
       "      <td>5</td>\n",
       "    </tr>\n",
       "  </tbody>\n",
       "</table>\n",
       "</div>"
      ],
      "text/plain": [
       "                                          Hypothesis  Reach  Impact  \\\n",
       "0  Добавить два новых канала привлечения трафика,...      3      10   \n",
       "1  Запустить собственную службу доставки, что сок...      2       5   \n",
       "2  Добавить блоки рекомендаций товаров на сайт ин...      8       3   \n",
       "3  Изменить структура категорий, что увеличит кон...      8       3   \n",
       "4  Изменить цвет фона главной страницы, чтобы уве...      3       1   \n",
       "5  Добавить страницу отзывов клиентов о магазине,...      3       2   \n",
       "6  Показать на главной странице баннеры с актуаль...      5       3   \n",
       "7  Добавить форму подписки на все основные страни...     10       7   \n",
       "8  Запустить акцию, дающую скидку на товар в день...      1       9   \n",
       "\n",
       "   Confidence  Efforts  \n",
       "0           8        6  \n",
       "1           4       10  \n",
       "2           7        3  \n",
       "3           3        8  \n",
       "4           1        1  \n",
       "5           2        3  \n",
       "6           8        3  \n",
       "7           8        5  \n",
       "8           9        5  "
      ]
     },
     "execution_count": 2,
     "metadata": {},
     "output_type": "execute_result"
    }
   ],
   "source": [
    "hypothesis=pd.read_csv('/Users/juliagrebeneva/Downloads/Яндекс учеба/13 спринт. Принятие решений в бизнесе/проект/hypothesis.csv')\n",
    "hypothesis"
   ]
  },
  {
   "cell_type": "code",
   "execution_count": 3,
   "metadata": {},
   "outputs": [
    {
     "data": {
      "text/html": [
       "<div>\n",
       "<style scoped>\n",
       "    .dataframe tbody tr th:only-of-type {\n",
       "        vertical-align: middle;\n",
       "    }\n",
       "\n",
       "    .dataframe tbody tr th {\n",
       "        vertical-align: top;\n",
       "    }\n",
       "\n",
       "    .dataframe thead th {\n",
       "        text-align: right;\n",
       "    }\n",
       "</style>\n",
       "<table border=\"1\" class=\"dataframe\">\n",
       "  <thead>\n",
       "    <tr style=\"text-align: right;\">\n",
       "      <th></th>\n",
       "      <th>Hypothesis</th>\n",
       "      <th>Reach</th>\n",
       "      <th>Impact</th>\n",
       "      <th>Confidence</th>\n",
       "      <th>Efforts</th>\n",
       "      <th>ICE</th>\n",
       "    </tr>\n",
       "  </thead>\n",
       "  <tbody>\n",
       "    <tr>\n",
       "      <th>8</th>\n",
       "      <td>Запустить акцию, дающую скидку на товар в день рождения</td>\n",
       "      <td>1</td>\n",
       "      <td>9</td>\n",
       "      <td>9</td>\n",
       "      <td>5</td>\n",
       "      <td>16.20</td>\n",
       "    </tr>\n",
       "    <tr>\n",
       "      <th>0</th>\n",
       "      <td>Добавить два новых канала привлечения трафика, что позволит привлекать на 30% больше пользователей</td>\n",
       "      <td>3</td>\n",
       "      <td>10</td>\n",
       "      <td>8</td>\n",
       "      <td>6</td>\n",
       "      <td>13.33</td>\n",
       "    </tr>\n",
       "    <tr>\n",
       "      <th>7</th>\n",
       "      <td>Добавить форму подписки на все основные страницы, чтобы собрать базу клиентов для email-рассылок</td>\n",
       "      <td>10</td>\n",
       "      <td>7</td>\n",
       "      <td>8</td>\n",
       "      <td>5</td>\n",
       "      <td>11.20</td>\n",
       "    </tr>\n",
       "    <tr>\n",
       "      <th>6</th>\n",
       "      <td>Показать на главной странице баннеры с актуальными акциями и распродажами, чтобы увеличить конверсию</td>\n",
       "      <td>5</td>\n",
       "      <td>3</td>\n",
       "      <td>8</td>\n",
       "      <td>3</td>\n",
       "      <td>8.00</td>\n",
       "    </tr>\n",
       "    <tr>\n",
       "      <th>2</th>\n",
       "      <td>Добавить блоки рекомендаций товаров на сайт интернет магазина, чтобы повысить конверсию и средний чек заказа</td>\n",
       "      <td>8</td>\n",
       "      <td>3</td>\n",
       "      <td>7</td>\n",
       "      <td>3</td>\n",
       "      <td>7.00</td>\n",
       "    </tr>\n",
       "    <tr>\n",
       "      <th>1</th>\n",
       "      <td>Запустить собственную службу доставки, что сократит срок доставки заказов</td>\n",
       "      <td>2</td>\n",
       "      <td>5</td>\n",
       "      <td>4</td>\n",
       "      <td>10</td>\n",
       "      <td>2.00</td>\n",
       "    </tr>\n",
       "    <tr>\n",
       "      <th>5</th>\n",
       "      <td>Добавить страницу отзывов клиентов о магазине, что позволит увеличить количество заказов</td>\n",
       "      <td>3</td>\n",
       "      <td>2</td>\n",
       "      <td>2</td>\n",
       "      <td>3</td>\n",
       "      <td>1.33</td>\n",
       "    </tr>\n",
       "    <tr>\n",
       "      <th>3</th>\n",
       "      <td>Изменить структура категорий, что увеличит конверсию, т.к. пользователи быстрее найдут нужный товар</td>\n",
       "      <td>8</td>\n",
       "      <td>3</td>\n",
       "      <td>3</td>\n",
       "      <td>8</td>\n",
       "      <td>1.12</td>\n",
       "    </tr>\n",
       "    <tr>\n",
       "      <th>4</th>\n",
       "      <td>Изменить цвет фона главной страницы, чтобы увеличить вовлеченность пользователей</td>\n",
       "      <td>3</td>\n",
       "      <td>1</td>\n",
       "      <td>1</td>\n",
       "      <td>1</td>\n",
       "      <td>1.00</td>\n",
       "    </tr>\n",
       "  </tbody>\n",
       "</table>\n",
       "</div>"
      ],
      "text/plain": [
       "                                                                                                     Hypothesis  \\\n",
       "8                                                       Запустить акцию, дающую скидку на товар в день рождения   \n",
       "0            Добавить два новых канала привлечения трафика, что позволит привлекать на 30% больше пользователей   \n",
       "7              Добавить форму подписки на все основные страницы, чтобы собрать базу клиентов для email-рассылок   \n",
       "6          Показать на главной странице баннеры с актуальными акциями и распродажами, чтобы увеличить конверсию   \n",
       "2  Добавить блоки рекомендаций товаров на сайт интернет магазина, чтобы повысить конверсию и средний чек заказа   \n",
       "1                                     Запустить собственную службу доставки, что сократит срок доставки заказов   \n",
       "5                      Добавить страницу отзывов клиентов о магазине, что позволит увеличить количество заказов   \n",
       "3           Изменить структура категорий, что увеличит конверсию, т.к. пользователи быстрее найдут нужный товар   \n",
       "4                              Изменить цвет фона главной страницы, чтобы увеличить вовлеченность пользователей   \n",
       "\n",
       "   Reach  Impact  Confidence  Efforts    ICE  \n",
       "8      1       9           9        5  16.20  \n",
       "0      3      10           8        6  13.33  \n",
       "7     10       7           8        5  11.20  \n",
       "6      5       3           8        3   8.00  \n",
       "2      8       3           7        3   7.00  \n",
       "1      2       5           4       10   2.00  \n",
       "5      3       2           2        3   1.33  \n",
       "3      8       3           3        8   1.12  \n",
       "4      3       1           1        1   1.00  "
      ]
     },
     "execution_count": 3,
     "metadata": {},
     "output_type": "execute_result"
    }
   ],
   "source": [
    "#Применяем фреймворк ICE для приоритизации гипотез. Сортируем их по убыванию приоритета.\n",
    "hypothesis['ICE']=round(hypothesis['Impact']*hypothesis['Confidence']/hypothesis['Efforts'],2)\n",
    "pd.set_option('max_colwidth', 200)\n",
    "hypothesis.sort_values(by='ICE',ascending=False)"
   ]
  },
  {
   "cell_type": "markdown",
   "metadata": {},
   "source": [
    "Согласно получившийся таблице наиболее перспективные гипотезы 8,0,7."
   ]
  },
  {
   "cell_type": "code",
   "execution_count": 4,
   "metadata": {},
   "outputs": [
    {
     "data": {
      "text/html": [
       "<div>\n",
       "<style scoped>\n",
       "    .dataframe tbody tr th:only-of-type {\n",
       "        vertical-align: middle;\n",
       "    }\n",
       "\n",
       "    .dataframe tbody tr th {\n",
       "        vertical-align: top;\n",
       "    }\n",
       "\n",
       "    .dataframe thead th {\n",
       "        text-align: right;\n",
       "    }\n",
       "</style>\n",
       "<table border=\"1\" class=\"dataframe\">\n",
       "  <thead>\n",
       "    <tr style=\"text-align: right;\">\n",
       "      <th></th>\n",
       "      <th>Hypothesis</th>\n",
       "      <th>Reach</th>\n",
       "      <th>Impact</th>\n",
       "      <th>Confidence</th>\n",
       "      <th>Efforts</th>\n",
       "      <th>ICE</th>\n",
       "      <th>RICE</th>\n",
       "    </tr>\n",
       "  </thead>\n",
       "  <tbody>\n",
       "    <tr>\n",
       "      <th>7</th>\n",
       "      <td>Добавить форму подписки на все основные страницы, чтобы собрать базу клиентов для email-рассылок</td>\n",
       "      <td>10</td>\n",
       "      <td>7</td>\n",
       "      <td>8</td>\n",
       "      <td>5</td>\n",
       "      <td>11.20</td>\n",
       "      <td>112.0</td>\n",
       "    </tr>\n",
       "    <tr>\n",
       "      <th>2</th>\n",
       "      <td>Добавить блоки рекомендаций товаров на сайт интернет магазина, чтобы повысить конверсию и средний чек заказа</td>\n",
       "      <td>8</td>\n",
       "      <td>3</td>\n",
       "      <td>7</td>\n",
       "      <td>3</td>\n",
       "      <td>7.00</td>\n",
       "      <td>56.0</td>\n",
       "    </tr>\n",
       "    <tr>\n",
       "      <th>0</th>\n",
       "      <td>Добавить два новых канала привлечения трафика, что позволит привлекать на 30% больше пользователей</td>\n",
       "      <td>3</td>\n",
       "      <td>10</td>\n",
       "      <td>8</td>\n",
       "      <td>6</td>\n",
       "      <td>13.33</td>\n",
       "      <td>40.0</td>\n",
       "    </tr>\n",
       "    <tr>\n",
       "      <th>6</th>\n",
       "      <td>Показать на главной странице баннеры с актуальными акциями и распродажами, чтобы увеличить конверсию</td>\n",
       "      <td>5</td>\n",
       "      <td>3</td>\n",
       "      <td>8</td>\n",
       "      <td>3</td>\n",
       "      <td>8.00</td>\n",
       "      <td>40.0</td>\n",
       "    </tr>\n",
       "    <tr>\n",
       "      <th>8</th>\n",
       "      <td>Запустить акцию, дающую скидку на товар в день рождения</td>\n",
       "      <td>1</td>\n",
       "      <td>9</td>\n",
       "      <td>9</td>\n",
       "      <td>5</td>\n",
       "      <td>16.20</td>\n",
       "      <td>16.2</td>\n",
       "    </tr>\n",
       "    <tr>\n",
       "      <th>3</th>\n",
       "      <td>Изменить структура категорий, что увеличит конверсию, т.к. пользователи быстрее найдут нужный товар</td>\n",
       "      <td>8</td>\n",
       "      <td>3</td>\n",
       "      <td>3</td>\n",
       "      <td>8</td>\n",
       "      <td>1.12</td>\n",
       "      <td>9.0</td>\n",
       "    </tr>\n",
       "    <tr>\n",
       "      <th>1</th>\n",
       "      <td>Запустить собственную службу доставки, что сократит срок доставки заказов</td>\n",
       "      <td>2</td>\n",
       "      <td>5</td>\n",
       "      <td>4</td>\n",
       "      <td>10</td>\n",
       "      <td>2.00</td>\n",
       "      <td>4.0</td>\n",
       "    </tr>\n",
       "    <tr>\n",
       "      <th>5</th>\n",
       "      <td>Добавить страницу отзывов клиентов о магазине, что позволит увеличить количество заказов</td>\n",
       "      <td>3</td>\n",
       "      <td>2</td>\n",
       "      <td>2</td>\n",
       "      <td>3</td>\n",
       "      <td>1.33</td>\n",
       "      <td>4.0</td>\n",
       "    </tr>\n",
       "    <tr>\n",
       "      <th>4</th>\n",
       "      <td>Изменить цвет фона главной страницы, чтобы увеличить вовлеченность пользователей</td>\n",
       "      <td>3</td>\n",
       "      <td>1</td>\n",
       "      <td>1</td>\n",
       "      <td>1</td>\n",
       "      <td>1.00</td>\n",
       "      <td>3.0</td>\n",
       "    </tr>\n",
       "  </tbody>\n",
       "</table>\n",
       "</div>"
      ],
      "text/plain": [
       "                                                                                                     Hypothesis  \\\n",
       "7              Добавить форму подписки на все основные страницы, чтобы собрать базу клиентов для email-рассылок   \n",
       "2  Добавить блоки рекомендаций товаров на сайт интернет магазина, чтобы повысить конверсию и средний чек заказа   \n",
       "0            Добавить два новых канала привлечения трафика, что позволит привлекать на 30% больше пользователей   \n",
       "6          Показать на главной странице баннеры с актуальными акциями и распродажами, чтобы увеличить конверсию   \n",
       "8                                                       Запустить акцию, дающую скидку на товар в день рождения   \n",
       "3           Изменить структура категорий, что увеличит конверсию, т.к. пользователи быстрее найдут нужный товар   \n",
       "1                                     Запустить собственную службу доставки, что сократит срок доставки заказов   \n",
       "5                      Добавить страницу отзывов клиентов о магазине, что позволит увеличить количество заказов   \n",
       "4                              Изменить цвет фона главной страницы, чтобы увеличить вовлеченность пользователей   \n",
       "\n",
       "   Reach  Impact  Confidence  Efforts    ICE   RICE  \n",
       "7     10       7           8        5  11.20  112.0  \n",
       "2      8       3           7        3   7.00   56.0  \n",
       "0      3      10           8        6  13.33   40.0  \n",
       "6      5       3           8        3   8.00   40.0  \n",
       "8      1       9           9        5  16.20   16.2  \n",
       "3      8       3           3        8   1.12    9.0  \n",
       "1      2       5           4       10   2.00    4.0  \n",
       "5      3       2           2        3   1.33    4.0  \n",
       "4      3       1           1        1   1.00    3.0  "
      ]
     },
     "execution_count": 4,
     "metadata": {},
     "output_type": "execute_result"
    }
   ],
   "source": [
    "#Применяем фреймворк RICE для приоритизации гипотез. Сортируем их по убыванию приоритета.\n",
    "hypothesis['RICE']=hypothesis['Reach']*hypothesis['Impact']*hypothesis['Confidence']/hypothesis['Efforts']\n",
    "hypothesis.sort_values(by='RICE',ascending=False)"
   ]
  },
  {
   "cell_type": "markdown",
   "metadata": {},
   "source": [
    "### Вывод\n",
    "\n",
    "\n",
    "Гипотезы 7 и 0 все еще остаются в топах перспективных гипотез. И к ним так же добавляются гипотезы 2 и 6. Гипотеза 8 переходит на 5 место.\n",
    "Это связано с тем, что к формуле для метода RICE добавляется еще один множитель, а именно Reach-охват. Для гипотезы 8, охват оценивается всего в 1 бал, потому что \"акция в день рождения\" не приведет много людей. Когда, как для гипотезы 2, охват отценивается в 8 баллов, поэтому она переходит на второе место в рейтинге. Мы можем проверить ее первой, так как кроме большого охвата, стоимость тестирования этой гипотезы одна из самых низких (Efforts=3). "
   ]
  },
  {
   "cell_type": "markdown",
   "metadata": {},
   "source": [
    "## Анализ A/B-теста\n"
   ]
  },
  {
   "cell_type": "markdown",
   "metadata": {},
   "source": [
    "### Открываем файлы"
   ]
  },
  {
   "cell_type": "code",
   "execution_count": 5,
   "metadata": {},
   "outputs": [
    {
     "name": "stdout",
     "output_type": "stream",
     "text": [
      "   transactionId   visitorId        date  revenue group\n",
      "0     3667963787  3312258926  2019-08-15     1650     B\n",
      "1     2804400009  3642806036  2019-08-15      730     B\n",
      "2     2961555356  4069496402  2019-08-15      400     A\n",
      "3     3797467345  1196621759  2019-08-15     9759     B\n",
      "4     2282983706  2322279887  2019-08-15     2308     B\n",
      "<class 'pandas.core.frame.DataFrame'>\n",
      "RangeIndex: 1197 entries, 0 to 1196\n",
      "Data columns (total 5 columns):\n",
      " #   Column         Non-Null Count  Dtype \n",
      "---  ------         --------------  ----- \n",
      " 0   transactionId  1197 non-null   int64 \n",
      " 1   visitorId      1197 non-null   int64 \n",
      " 2   date           1197 non-null   object\n",
      " 3   revenue        1197 non-null   int64 \n",
      " 4   group          1197 non-null   object\n",
      "dtypes: int64(3), object(2)\n",
      "memory usage: 46.9+ KB\n",
      "None\n",
      "transactionId    0\n",
      "visitorId        0\n",
      "date             0\n",
      "revenue          0\n",
      "group            0\n",
      "dtype: int64\n",
      "Дубликаты: 0\n"
     ]
    }
   ],
   "source": [
    "orders=pd.read_csv('/Users/juliagrebeneva/Downloads/Яндекс учеба/13 спринт. Принятие решений в бизнесе/проект/orders.csv')\n",
    "print(orders.head())\n",
    "print(orders.info())\n",
    "print(orders.isna().sum())\n",
    "print('Дубликаты:',orders.duplicated().sum())"
   ]
  },
  {
   "cell_type": "markdown",
   "metadata": {},
   "source": [
    "В датафрейме 1197 строк. Нет дубликатов и пропусков в значениях. Поменяем тип данных для столбца date."
   ]
  },
  {
   "cell_type": "code",
   "execution_count": 6,
   "metadata": {},
   "outputs": [
    {
     "name": "stdout",
     "output_type": "stream",
     "text": [
      "<class 'pandas.core.frame.DataFrame'>\n",
      "RangeIndex: 1197 entries, 0 to 1196\n",
      "Data columns (total 5 columns):\n",
      " #   Column         Non-Null Count  Dtype         \n",
      "---  ------         --------------  -----         \n",
      " 0   transactionId  1197 non-null   int64         \n",
      " 1   visitorId      1197 non-null   int64         \n",
      " 2   date           1197 non-null   datetime64[ns]\n",
      " 3   revenue        1197 non-null   int64         \n",
      " 4   group          1197 non-null   object        \n",
      "dtypes: datetime64[ns](1), int64(3), object(1)\n",
      "memory usage: 46.9+ KB\n"
     ]
    }
   ],
   "source": [
    "orders['date']=orders['date'].map(lambda x: dt.datetime.strptime(x,'%Y-%m-%d'))\n",
    "orders.info()"
   ]
  },
  {
   "cell_type": "code",
   "execution_count": 7,
   "metadata": {},
   "outputs": [
    {
     "data": {
      "text/plain": [
       "1031"
      ]
     },
     "execution_count": 7,
     "metadata": {},
     "output_type": "execute_result"
    }
   ],
   "source": [
    "len(orders['visitorId'].unique())"
   ]
  },
  {
   "cell_type": "code",
   "execution_count": 8,
   "metadata": {},
   "outputs": [],
   "source": [
    "x=orders.pivot_table(index='visitorId',values='group',aggfunc='nunique')\n",
    "x.columns=['groups']"
   ]
  },
  {
   "cell_type": "code",
   "execution_count": 9,
   "metadata": {},
   "outputs": [
    {
     "data": {
      "text/plain": [
       "groups    58\n",
       "dtype: int64"
      ]
     },
     "execution_count": 9,
     "metadata": {},
     "output_type": "execute_result"
    }
   ],
   "source": [
    "x.loc[x.loc[:,'groups']==2].count()"
   ]
  },
  {
   "cell_type": "markdown",
   "metadata": {},
   "source": [
    "Пользователей, которые попали в обе группы 58. Это очень маленький процент от всего датасета (примерно 6). Мы можем сотавить их, так как мы не знаем причины, почему они попали в обе группы. В реальной задаче нужно было бы идти и разбираться правда ли это не смещает выборки. Таких пользователей немного, но их исключением мы могли бы убрать влияние из обеих групп.\n",
    "\n",
    "В данном случае таблица с визитами содержит уже агрегированные данные, эффективно очистить обе таблицы не получится, поэтому пользователей можно оставить в тесте.\n"
   ]
  },
  {
   "cell_type": "code",
   "execution_count": 10,
   "metadata": {},
   "outputs": [
    {
     "name": "stdout",
     "output_type": "stream",
     "text": [
      "         date group  visitors\n",
      "0  2019-08-01     A       719\n",
      "1  2019-08-02     A       619\n",
      "2  2019-08-03     A       507\n",
      "3  2019-08-04     A       717\n",
      "4  2019-08-05     A       756\n",
      "<class 'pandas.core.frame.DataFrame'>\n",
      "RangeIndex: 62 entries, 0 to 61\n",
      "Data columns (total 3 columns):\n",
      " #   Column    Non-Null Count  Dtype \n",
      "---  ------    --------------  ----- \n",
      " 0   date      62 non-null     object\n",
      " 1   group     62 non-null     object\n",
      " 2   visitors  62 non-null     int64 \n",
      "dtypes: int64(1), object(2)\n",
      "memory usage: 1.6+ KB\n",
      "None\n",
      "date        0\n",
      "group       0\n",
      "visitors    0\n",
      "dtype: int64\n",
      "Дубликаты: 0\n"
     ]
    }
   ],
   "source": [
    "visitors=pd.read_csv('/Users/juliagrebeneva/Downloads/Яндекс учеба/13 спринт. Принятие решений в бизнесе/проект/visitors.csv', sep=',')\n",
    "print(visitors.head())\n",
    "print(visitors.info())\n",
    "print(visitors.isna().sum())\n",
    "print('Дубликаты:',visitors.duplicated().sum())"
   ]
  },
  {
   "cell_type": "markdown",
   "metadata": {},
   "source": [
    "В датафрейме 62 строки. Нет дубликатов и пропусков в значениях. Поменяем тип данных для столбца date."
   ]
  },
  {
   "cell_type": "code",
   "execution_count": 11,
   "metadata": {},
   "outputs": [
    {
     "name": "stdout",
     "output_type": "stream",
     "text": [
      "<class 'pandas.core.frame.DataFrame'>\n",
      "RangeIndex: 62 entries, 0 to 61\n",
      "Data columns (total 3 columns):\n",
      " #   Column    Non-Null Count  Dtype         \n",
      "---  ------    --------------  -----         \n",
      " 0   date      62 non-null     datetime64[ns]\n",
      " 1   group     62 non-null     object        \n",
      " 2   visitors  62 non-null     int64         \n",
      "dtypes: datetime64[ns](1), int64(1), object(1)\n",
      "memory usage: 1.6+ KB\n"
     ]
    }
   ],
   "source": [
    "visitors['date']=visitors['date'].map(lambda x: dt.datetime.strptime(x,'%Y-%m-%d'))\n",
    "visitors.info()"
   ]
  },
  {
   "cell_type": "markdown",
   "metadata": {},
   "source": [
    "### Анализ А/В-теста"
   ]
  },
  {
   "cell_type": "markdown",
   "metadata": {},
   "source": [
    "#### Собираем нужный для анализа датафрейм"
   ]
  },
  {
   "cell_type": "markdown",
   "metadata": {},
   "source": [
    "Чтобы построить графики, нужно собрать кумулятивные данные. Объявим датафрейм cumulativeData со столбцами: \n",
    "\n",
    "* date — дата;\n",
    "* group — группа A/B-теста (A или B);\n",
    "* orders — кумулятивное количество заказов на указанную дату в указанной группе;\n",
    "* buyers — кумулятивное количество пользователей, совершивших хотя бы один заказ, на указанную дату в указанной группе;\n",
    "* revenue — кумулятивная выручка на указанную дату в указанной группе (средний чек);\n",
    "* visitors — кумулятивное количество посетителей интернет-магазина на указанную дату в определённой группе."
   ]
  },
  {
   "cell_type": "code",
   "execution_count": 12,
   "metadata": {},
   "outputs": [],
   "source": [
    "# создаем массив уникальных пар значений дат и групп теста\n",
    "datesGroups = orders[['date','group']].drop_duplicates() "
   ]
  },
  {
   "cell_type": "code",
   "execution_count": 13,
   "metadata": {},
   "outputs": [
    {
     "name": "stdout",
     "output_type": "stream",
     "text": [
      "        date group  orders  buyers  revenue  visitors\n",
      "0 2019-08-01     A      24      20   148579       719\n",
      "1 2019-08-01     B      21      20   101217       713\n",
      "2 2019-08-02     A      44      38   242401      1338\n",
      "3 2019-08-02     B      45      43   266748      1294\n",
      "4 2019-08-03     A      68      62   354874      1845\n"
     ]
    }
   ],
   "source": [
    "# создаем массив уникальных пар значений дат и групп теста\n",
    "datesGroups = orders[['date','group']].drop_duplicates()\n",
    "\n",
    "# получаем агрегированные кумулятивные по дням данные о заказах \n",
    "ordersAggregated = datesGroups.apply(lambda x: orders[np.logical_and(orders['date'] <= x['date'], orders['group'] == x['group'])].agg({'date' : 'max', 'group' : 'max', 'transactionId' : 'nunique', 'visitorId' : 'nunique', 'revenue' : 'sum'}), axis=1).sort_values(by=['date','group'])\n",
    "\n",
    "# получаем агрегированные кумулятивные по дням данные о посетителях интернет-магазина \n",
    "visitorsAggregated = datesGroups.apply(lambda x: visitors[np.logical_and(visitors['date'] <= x['date'], visitors['group'] == x['group'])].agg({'date' : 'max', 'group' : 'max', 'visitors' : 'sum'}), axis=1).sort_values(by=['date','group'])\n",
    "\n",
    "# объединяем кумулятивные данные в одной таблице и присваиваем ее столбцам понятные названия\n",
    "cumulativeData = ordersAggregated.merge(visitorsAggregated, left_on=['date', 'group'], right_on=['date', 'group'])\n",
    "cumulativeData.columns = ['date', 'group', 'orders', 'buyers', 'revenue', 'visitors']\n",
    "\n",
    "print(cumulativeData.head(5)) \n",
    "\n"
   ]
  },
  {
   "cell_type": "markdown",
   "metadata": {},
   "source": [
    "Проверяем, корректно ли был создан датафрейм cumulativeData. Совпадают ли минимальная и максимальная даты в этом датафрейме с минимальной и максимальной датой в исходных данных.\n"
   ]
  },
  {
   "cell_type": "code",
   "execution_count": 14,
   "metadata": {},
   "outputs": [
    {
     "name": "stdout",
     "output_type": "stream",
     "text": [
      "Минимальная и максимальная даты в исходном visitors: 2019-08-01 00:00:00 , 2019-08-31 00:00:00\n",
      "Минимальная и максимальная даты в исходном orders: 2019-08-01 00:00:00 , 2019-08-31 00:00:00\n",
      "Минимальная и максимальная даты в получившемся cumulativeData: 2019-08-01 00:00:00 , 2019-08-31 00:00:00\n"
     ]
    }
   ],
   "source": [
    "print('Минимальная и максимальная даты в исходном visitors:', visitors['date'].min(),',', visitors['date'].max())\n",
    "print ('Минимальная и максимальная даты в исходном orders:', orders['date'].min(),',', orders['date'].max())\n",
    "print('Минимальная и максимальная даты в получившемся cumulativeData:', cumulativeData['date'].min(),',', cumulativeData['date'].max())"
   ]
  },
  {
   "cell_type": "markdown",
   "metadata": {},
   "source": [
    "Даты в файлах совпадают, значит файл cumulativeData создан коректно."
   ]
  },
  {
   "cell_type": "markdown",
   "metadata": {},
   "source": [
    "#### Строим график кумулятивной выручки по группам."
   ]
  },
  {
   "cell_type": "code",
   "execution_count": 15,
   "metadata": {},
   "outputs": [
    {
     "data": {
      "image/png": "[encoded data removed]",
      "text/plain": [
       "<Figure size 1500x600 with 1 Axes>"
      ]
     },
     "metadata": {},
     "output_type": "display_data"
    }
   ],
   "source": [
    "# датафрейм с кумулятивным количеством заказов и кумулятивной выручкой по дням в группе А\n",
    "cumulativeRevenueA = cumulativeData[cumulativeData['group']=='A'][['date','revenue', 'orders']]\n",
    "\n",
    "# датафрейм с кумулятивным количеством заказов и кумулятивной выручкой по дням в группе B\n",
    "cumulativeRevenueB = cumulativeData[cumulativeData['group']=='B'][['date','revenue', 'orders']]\n",
    "# задаем размеры графика\n",
    "plt.figure(figsize=(15,6))\n",
    "# Строим график выручки группы А\n",
    "plt.plot(cumulativeRevenueA['date'], cumulativeRevenueA['revenue'], label='A')\n",
    "\n",
    "# Строим график выручки группы B\n",
    "plt.plot(cumulativeRevenueB['date'], cumulativeRevenueB['revenue'], label='B')\n",
    "\n",
    "plt.xlabel('Даты')\n",
    "plt.ylabel('Выручка')\n",
    "plt.title('График кумулятивной выручки по группам')\n",
    "plt.legend() ;"
   ]
  },
  {
   "cell_type": "markdown",
   "metadata": {},
   "source": [
    "Выручка почти равномерно увеличивается в течение всего теста. Однако для группы В виден резкое увеличение после 17 августа. Возможно был всплеск заказов, или появились очень дорогие заказы."
   ]
  },
  {
   "cell_type": "markdown",
   "metadata": {},
   "source": [
    "#### Строим  график кумулятивного среднего чека по группам.\n"
   ]
  },
  {
   "cell_type": "code",
   "execution_count": 16,
   "metadata": {},
   "outputs": [
    {
     "data": {
      "image/png": "[encoded data removed]",
      "text/plain": [
       "<Figure size 1500x600 with 1 Axes>"
      ]
     },
     "metadata": {},
     "output_type": "display_data"
    }
   ],
   "source": [
    "# задаем размеры графика\n",
    "plt.figure(figsize=(15,6))\n",
    "\n",
    "# разделим кумулятивную выручку на кумулятивное число заказов\n",
    "plt.plot(cumulativeRevenueA['date'], cumulativeRevenueA['revenue']/cumulativeRevenueA['orders'], label='A')\n",
    "plt.plot(cumulativeRevenueB['date'], cumulativeRevenueB['revenue']/cumulativeRevenueB['orders'], label='B')\n",
    "\n",
    "plt.xlabel('Даты')\n",
    "plt.ylabel('Средний чек')\n",
    "plt.title('График кумулятивного среднего чека по группам')\n",
    "plt.legend();"
   ]
  },
  {
   "cell_type": "markdown",
   "metadata": {},
   "source": [
    "Средний чек к концу теста тоже становится равномерным: для группы В после резкого скачка 17 августа продолжает падать, для группы А утановился около 7000. Нужно будет проверить этот резкий скачок для группы В. "
   ]
  },
  {
   "cell_type": "markdown",
   "metadata": {},
   "source": [
    "#### Строим график относительного изменения кумулятивного среднего чека группы B к группе A. "
   ]
  },
  {
   "cell_type": "code",
   "execution_count": 17,
   "metadata": {},
   "outputs": [
    {
     "data": {
      "image/png": "[encoded data removed]",
      "text/plain": [
       "<Figure size 1500x600 with 1 Axes>"
      ]
     },
     "metadata": {},
     "output_type": "display_data"
    }
   ],
   "source": [
    "# задаем размеры графика\n",
    "plt.figure(figsize=(15,6))\n",
    "# собираем данные в одном датафрейме\n",
    "mergedCumulativeRevenue = cumulativeRevenueA.merge(cumulativeRevenueB, left_on='date', right_on='date', how='left', suffixes=['A', 'B'])\n",
    "\n",
    "# cтроим отношение средних чеков\n",
    "plt.plot(mergedCumulativeRevenue['date'], (mergedCumulativeRevenue['revenueB']/mergedCumulativeRevenue['ordersB'])/(mergedCumulativeRevenue['revenueA']/mergedCumulativeRevenue['ordersA'])-1)\n",
    "\n",
    "\n",
    "plt.xlabel('Даты')\n",
    "plt.ylabel('Относительная разница')\n",
    "plt.title('График относительного изменения кумулятивного среднего чека группы B к группе A')\n",
    "\n",
    "# добавляем ось X\n",
    "plt.axhline(y=0, color='black', linestyle='--');"
   ]
  },
  {
   "cell_type": "markdown",
   "metadata": {},
   "source": [
    "В нескольких точках график различия между сегментами резко \"скачет\", но к концу теста, есть небольшой участок с установившимся значением."
   ]
  },
  {
   "cell_type": "markdown",
   "metadata": {},
   "source": [
    "#### Строим график кумулятивного среднего количества заказов на посетителя по группам. "
   ]
  },
  {
   "cell_type": "code",
   "execution_count": 18,
   "metadata": {},
   "outputs": [
    {
     "data": {
      "image/png": "[encoded data removed]",
      "text/plain": [
       "<Figure size 1500x600 with 1 Axes>"
      ]
     },
     "metadata": {},
     "output_type": "display_data"
    }
   ],
   "source": [
    "# датафрейм с кумулятивным количеством заказов и кумулятивной выручкой по дням в группе А\n",
    "cumulatiVevisitorsA = cumulativeData[cumulativeData['group']=='A'][['date','visitors', 'orders']]\n",
    "\n",
    "# датафрейм с кумулятивным количеством заказов и кумулятивной выручкой по дням в группе B\n",
    "cumulatiVevisitorsB = cumulativeData[cumulativeData['group']=='B'][['date','visitors', 'orders']]\n",
    "\n",
    "# задаем размеры графика\n",
    "plt.figure(figsize=(15,6))\n",
    "\n",
    "# разделим кумулятивную выручку на кумулятивное число заказов\n",
    "plt.plot(cumulatiVevisitorsA['date'], cumulatiVevisitorsA['orders']/cumulatiVevisitorsA['visitors'], label='A')\n",
    "plt.plot(cumulatiVevisitorsB['date'], cumulatiVevisitorsB['orders']/cumulatiVevisitorsB['visitors'], label='B')\n",
    "\n",
    "plt.xlabel('Даты')\n",
    "plt.ylabel('Среднее количество заказов')\n",
    "plt.title('График кумулятивного среднего количества заказов на посетителя по группам')\n",
    "plt.legend();"
   ]
  },
  {
   "cell_type": "markdown",
   "metadata": {},
   "source": [
    "В начале теста были большие скачки для обеих групп, но после 17 августа значения начали устаналиваться. Для группы В на конец периода значение среднего количества заказов на посетителя примерно на 13% выше, чем для группы А. Группа В выигрывает на протяжении всего теста."
   ]
  },
  {
   "cell_type": "markdown",
   "metadata": {},
   "source": [
    "#### Строим график относительного изменения кумулятивного среднего количества заказов на посетителя группы B к группе A."
   ]
  },
  {
   "cell_type": "code",
   "execution_count": 19,
   "metadata": {},
   "outputs": [
    {
     "data": {
      "image/png": "[encoded data removed]",
      "text/plain": [
       "<Figure size 1500x600 with 1 Axes>"
      ]
     },
     "metadata": {},
     "output_type": "display_data"
    }
   ],
   "source": [
    "\n",
    "# задаем размеры графика\n",
    "plt.figure(figsize=(15,6))\n",
    "# собираем данные в одном датафрейме\n",
    "mergedCumulativeVevisitors = cumulatiVevisitorsA.merge(cumulatiVevisitorsB, left_on='date', right_on='date', how='left', suffixes=['A', 'B'])\n",
    "\n",
    "# cтроим отношение средних чеков\n",
    "plt.plot(mergedCumulativeVevisitors['date'], (mergedCumulativeVevisitors['ordersB']/mergedCumulativeVevisitors['visitorsB'])/(mergedCumulativeVevisitors['ordersA']/mergedCumulativeVevisitors['visitorsA'])-1)\n",
    "\n",
    "plt.xlabel('Даты')\n",
    "plt.ylabel('Относительная разница')\n",
    "plt.title('График относительного изменения кумулятивного среднего количества заказов на посетителя группы B к группе A')\n",
    "\n",
    "# добавляем ось X\n",
    "plt.axhline(y=0, color='black', linestyle='--');\n",
    "plt.axhline(y=0.15, color='grey', linestyle='--');"
   ]
  },
  {
   "cell_type": "markdown",
   "metadata": {},
   "source": [
    "Для удобства добавили еще одну линию серым цветом на значение 0.15 по оси y, так как около этого значения намечается тенденция к стабилизации.\n"
   ]
  },
  {
   "cell_type": "markdown",
   "metadata": {},
   "source": [
    "В начале теста группы В значительно проигровала группе А. Потом вырвалась вперед и на протяжении всего теста среднее количество заказов было выше, чем у группы А. Под конец теста, мы видим что, эта величена начинает расти."
   ]
  },
  {
   "cell_type": "markdown",
   "metadata": {},
   "source": [
    "#### Строим точечный график количества заказов по пользователям. Считаем 95-й и 99-й перцентили количества заказов на пользователя. Выбираем границу для определения аномальных пользователей"
   ]
  },
  {
   "cell_type": "code",
   "execution_count": 20,
   "metadata": {},
   "outputs": [
    {
     "name": "stdout",
     "output_type": "stream",
     "text": [
      "          userId  orders\n",
      "1023  4256040402      11\n",
      "591   2458001652      11\n",
      "569   2378935119       9\n",
      "487   2038680547       8\n",
      "44     199603092       5\n",
      "744   3062433592       5\n",
      "55     237748145       5\n",
      "917   3803269165       5\n",
      "299   1230306981       5\n",
      "897   3717692402       5\n"
     ]
    }
   ],
   "source": [
    "# собираем файл с количеством заказов по пользователям\n",
    "ordersByUsers = (\n",
    "    orders.groupby('visitorId', as_index=False)\n",
    "    .agg({'transactionId': 'nunique'})\n",
    ")\n",
    "\n",
    "ordersByUsers.columns = ['userId', 'orders']\n",
    "\n",
    "print(ordersByUsers.sort_values(by='orders', ascending=False).head(10)) "
   ]
  },
  {
   "cell_type": "markdown",
   "metadata": {},
   "source": [
    "Есть пользователи, которые совершали по 11,9,8,5 заказов. Значительно больше, чем обычный пользователь в неделю."
   ]
  },
  {
   "cell_type": "code",
   "execution_count": 21,
   "metadata": {},
   "outputs": [
    {
     "data": {
      "image/png": "[encoded data removed]",
      "text/plain": [
       "<Figure size 640x480 with 1 Axes>"
      ]
     },
     "metadata": {},
     "output_type": "display_data"
    }
   ],
   "source": [
    "x_values = pd.Series(range(0,len(ordersByUsers)))\n",
    "\n",
    "plt.scatter(x_values, ordersByUsers['orders'])\n",
    "\n",
    "plt.xlabel('Количество пользователей')\n",
    "plt.ylabel('Количество заказов')\n",
    "plt.title('Точечная диаграмма числа заказов на одного пользователя');"
   ]
  },
  {
   "cell_type": "markdown",
   "metadata": {},
   "source": [
    "Большинство пользователей заказывали один раз, но пользователей с 2-3 заказами тоже много. Не ясна их точная  доля не ясна, поэтому нужно посчитать выборочные перцентили количества заказов на одного пользователя."
   ]
  },
  {
   "cell_type": "code",
   "execution_count": 22,
   "metadata": {},
   "outputs": [
    {
     "name": "stdout",
     "output_type": "stream",
     "text": [
      "[1. 2. 4.]\n"
     ]
    }
   ],
   "source": [
    "print(np.percentile(ordersByUsers['orders'], [90, 95, 99])) "
   ]
  },
  {
   "cell_type": "markdown",
   "metadata": {},
   "source": [
    "Не более 5% пользователей оформляли больше, чем 2 заказа, не более 1% - больше 4 заказов. Стоит выбрать 2 заказа как верхнюю границу и отсеять аномальных пользователей по ней."
   ]
  },
  {
   "cell_type": "markdown",
   "metadata": {},
   "source": [
    "#### Строим точечный график стоимостей заказов. Считаем 95-й и 99-й перцентили стоимости заказов. Выбираем границу для определения аномальных заказов."
   ]
  },
  {
   "cell_type": "code",
   "execution_count": 23,
   "metadata": {},
   "outputs": [
    {
     "data": {
      "image/png": "[encoded data removed]",
      "text/plain": [
       "<Figure size 1500x600 with 1 Axes>"
      ]
     },
     "metadata": {},
     "output_type": "display_data"
    }
   ],
   "source": [
    "plt.figure(figsize=(15,6))\n",
    "x_values = pd.Series(range(0,len(orders['revenue'])))\n",
    "plt.scatter(x_values, orders['revenue'])\n",
    "plt.xlabel('Количество пользователей')\n",
    "plt.ylabel('Стоимость заказов')\n",
    "plt.title('Точечная диаграмма стоимости заказов на одного пользователя');"
   ]
  },
  {
   "cell_type": "markdown",
   "metadata": {},
   "source": [
    "Добавим еще один график, ограничив значения по оси Y. Чтобы двух явных выбросов не было видно, а мы могли рассмотреть основную часть заказов."
   ]
  },
  {
   "cell_type": "code",
   "execution_count": 24,
   "metadata": {},
   "outputs": [
    {
     "data": {
      "image/png": "[encoded data removed]",
      "text/plain": [
       "<Figure size 1500x600 with 1 Axes>"
      ]
     },
     "metadata": {},
     "output_type": "display_data"
    }
   ],
   "source": [
    "plt.figure(figsize=(15,6))\n",
    "plt.ylim([0, 30000])\n",
    "x_values = pd.Series(range(0,len(orders['revenue'])))\n",
    "plt.scatter(x_values, orders['revenue'])\n",
    "plt.xlabel('Количество пользователей')\n",
    "plt.ylabel('Стоимость заказов')\n",
    "plt.title('Точечная диаграмма стоимости заказов на одного пользователя');"
   ]
  },
  {
   "cell_type": "markdown",
   "metadata": {},
   "source": [
    "По графику видно, что в основном стоимость заказа доходила примерно до 15 тысяч, но есть большие значения больше 120 тысяч. Посчитаем выборочные перцентили."
   ]
  },
  {
   "cell_type": "code",
   "execution_count": 25,
   "metadata": {},
   "outputs": [
    {
     "name": "stdout",
     "output_type": "stream",
     "text": [
      "[18168.  28000.  58233.2]\n"
     ]
    }
   ],
   "source": [
    "print(np.percentile(orders['revenue'], [90, 95, 99]))"
   ]
  },
  {
   "cell_type": "markdown",
   "metadata": {},
   "source": [
    "Получается, что только 5 % пользователей делали заказы свыше 28 тысяч, и только 1% свыше 58 тысяч. За границу будем ставить 28 тысяч, чтобы убрать от 1 до 5% пользователей с дорогими заказами."
   ]
  },
  {
   "cell_type": "markdown",
   "metadata": {},
   "source": [
    "#### Считаем статистическую значимость различий в среднем количестве заказов на посетителя между группами по «сырым» данным. "
   ]
  },
  {
   "cell_type": "markdown",
   "metadata": {},
   "source": [
    "Сначала небходимо подготовить данные и собрать их в одной таблице."
   ]
  },
  {
   "cell_type": "code",
   "execution_count": 26,
   "metadata": {},
   "outputs": [
    {
     "name": "stdout",
     "output_type": "stream",
     "text": [
      "        date  visitorsPerDateA  visitorsPerDateB\n",
      "0 2019-08-01               719               713\n",
      "1 2019-08-02               619               581\n",
      "2 2019-08-03               507               509\n",
      "3 2019-08-04               717               770\n",
      "4 2019-08-05               756               707\n"
     ]
    }
   ],
   "source": [
    "# считаем количество пользователей в выбранную дату в группе А\n",
    "visitorsADaily = visitors[visitors['group'] == 'A'][['date', 'visitors']]\n",
    "visitorsADaily.columns = ['date', 'visitorsPerDateA']\n",
    "\n",
    "# считаем количество пользователей в выбранную дату в группе B\n",
    "visitorsBDaily = visitors[visitors['group'] == 'B'][['date', 'visitors']]\n",
    "visitorsBDaily.columns = ['date', 'visitorsPerDateB']\n",
    "\n",
    "\n",
    "data = (\n",
    "    visitorsADaily.merge(\n",
    "        visitorsBDaily, left_on='date', right_on='date', how='left'\n",
    "    )\n",
    "    \n",
    ")\n",
    "\n",
    "print(data.head(5)) "
   ]
  },
  {
   "cell_type": "markdown",
   "metadata": {},
   "source": [
    "Посчитаем статистическую значимость различия в среднем количестве заказов между группами. \n",
    "\n",
    "Сформулируем гипотезы. Нулевая: Статистически значимых различий в среднем количестве заказов между группами по \"сырым\" данным нет. Альтернативная: Статистически значимых различий в среднем количестве заказов между группами по \"сырым\" данным есть.\n",
    "\n",
    "Значение alpha возьмем равное 0.05. Проверку будем выполнять критерием Манна-Уитни,так как мы отказываемся от предположения нормальности распределения и одинаковых дисперсий, а так же помним о сущесвовании выбросов в данных."
   ]
  },
  {
   "cell_type": "code",
   "execution_count": 27,
   "metadata": {},
   "outputs": [
    {
     "name": "stdout",
     "output_type": "stream",
     "text": [
      "p-value = 0.017\n",
      "Относительный прирост среднего числа заказов группы B = 0.138\n"
     ]
    }
   ],
   "source": [
    "# создаем переменные, в которых для пользователей, сделавших хотя бы 1 заказ, указываем число совершенных заказов.\n",
    "ordersByUsersA = (\n",
    "    orders[orders['group'] == 'A']\n",
    "    .groupby('visitorId', as_index=False)\n",
    "    .agg({'transactionId': pd.Series.nunique})\n",
    ")\n",
    "ordersByUsersA.columns = ['userId', 'orders']\n",
    "\n",
    "ordersByUsersB = (\n",
    "    orders[orders['group'] == 'B']\n",
    "    .groupby('visitorId', as_index=False)\n",
    "    .agg({'transactionId': pd.Series.nunique})\n",
    ")\n",
    "ordersByUsersB.columns = ['userId', 'orders']\n",
    "\n",
    "# объявляем переменные, в которых пользователям из разных групп будет соответствовать количество заказов. \n",
    "# Тем, кто ничего не заказал, будут соответствовать нули.\n",
    "sampleA = pd.concat(\n",
    "    [\n",
    "        ordersByUsersA['orders'],\n",
    "        pd.Series(\n",
    "            0,\n",
    "            index=np.arange(\n",
    "                data['visitorsPerDateA'].sum() - len(ordersByUsersA['orders'])\n",
    "            ),\n",
    "            name='orders',\n",
    "        ),\n",
    "    ],\n",
    "    axis=0,\n",
    ")\n",
    "\n",
    "sampleB = pd.concat(\n",
    "    [\n",
    "        ordersByUsersB['orders'],\n",
    "        pd.Series(\n",
    "            0,\n",
    "            index=np.arange(\n",
    "                data['visitorsPerDateB'].sum() - len(ordersByUsersB['orders'])\n",
    "            ),\n",
    "            name='orders',\n",
    "        ),\n",
    "    ],\n",
    "    axis=0,\n",
    ")\n",
    "# применяем критерий Манна-Уитни\n",
    "print(\"p-value = {0:.3f}\".format(st.mannwhitneyu(sampleA, sampleB)[1]))\n",
    "\n",
    "# выведим относительный прирост среднего числа заказов группы B\n",
    "print(\"Относительный прирост среднего числа заказов группы B = {0:.3f}\".format(sampleB.mean() / sampleA.mean() - 1))"
   ]
  },
  {
   "cell_type": "markdown",
   "metadata": {},
   "source": [
    "По \"сырым\" данным различия в среднем числе заказов групп А и В есть, p-value меньше 0.05, а значит мы можем отвергнуть нулевую гипотезу в пользу альтернативной.  И среднее число заказов группы В примерно на 14% больше, чем группы А."
   ]
  },
  {
   "cell_type": "markdown",
   "metadata": {},
   "source": [
    "#### Считаем статистическую значимость различий в среднем чеке заказа между группами по «сырым» данным. "
   ]
  },
  {
   "cell_type": "markdown",
   "metadata": {},
   "source": [
    "Нулевая гипотеза: Статистически значимых различий в среднем чеке по \"сырым\" данным между группами нет. Альтернативная гипотеза:  Статистически значимых различий в среднем чеке по \"сырым\" данным между группами есть. \n",
    "\n",
    "Значение alpha возьмем равное 0.05. Проверку будем выполнять критерием Манна-Уитни. "
   ]
  },
  {
   "cell_type": "code",
   "execution_count": 28,
   "metadata": {},
   "outputs": [
    {
     "name": "stdout",
     "output_type": "stream",
     "text": [
      "p-value =  0.729\n",
      "Относительный прирост среднего числа заказов группы B = 0.259\n"
     ]
    }
   ],
   "source": [
    "print('p-value =  {0:.3f}'.format(st.mannwhitneyu(orders[orders['group']=='A']['revenue'], orders[orders['group']=='B']['revenue'])[1]))\n",
    "print('Относительный прирост среднего числа заказов группы B = {0:.3f}'.format(orders[orders['group']=='B']['revenue'].mean()/orders[orders['group']=='A']['revenue'].mean()-1)) "
   ]
  },
  {
   "cell_type": "markdown",
   "metadata": {},
   "source": [
    "P-value = 0.729 значительно больше 0.05. Значит, нулевую гипотезу о том, что статистически значимых различий в среднем числе заказов между группами нет, не отвергаем. Средний чек группы В отличается от среднего чека группы А на 25%. Далее посчитаем статистическую значимость различий по \"очищенным\" данным."
   ]
  },
  {
   "cell_type": "markdown",
   "metadata": {},
   "source": [
    "#### Считаем статистическую значимость различий в среднем количестве заказов на посетителя между группами по «очищенным» данным."
   ]
  },
  {
   "cell_type": "markdown",
   "metadata": {},
   "source": [
    "Сначала, сделаем срезы пользователей с числом заказов больше 2, и пользователей совершивших заказы дороже 28 тысяч.Объядиним их в одной таблице, и посчитаем сколько всего таких пользователей."
   ]
  },
  {
   "cell_type": "code",
   "execution_count": 29,
   "metadata": {},
   "outputs": [
    {
     "name": "stdout",
     "output_type": "stream",
     "text": [
      "1099    148427295\n",
      "18      199603092\n",
      "928     204675465\n",
      "23      237748145\n",
      "37      249864742\n",
      "dtype: int64\n",
      "74\n"
     ]
    }
   ],
   "source": [
    "usersWithManyOrders = pd.concat(\n",
    "    [\n",
    "        ordersByUsersA[ordersByUsersA['orders'] > (np.percentile(ordersByUsers['orders'], 95))]['userId'],\n",
    "        ordersByUsersB[ordersByUsersB['orders'] > (np.percentile(ordersByUsers['orders'], 95))]['userId'],\n",
    "    ],\n",
    "    axis=0,\n",
    ")\n",
    "usersWithExpensiveOrders = orders[orders['revenue'] > (np.percentile(orders['revenue'], 95))]['visitorId']\n",
    "abnormalUsers = (\n",
    "    pd.concat([usersWithManyOrders, usersWithExpensiveOrders], axis=0)\n",
    "    .drop_duplicates()\n",
    "    .sort_values()\n",
    ")\n",
    "print(abnormalUsers.head(5))\n",
    "print(abnormalUsers.shape[0]) "
   ]
  },
  {
   "cell_type": "markdown",
   "metadata": {},
   "source": [
    "Всего 74 аномальных пользователей. \n",
    "Узнаем, как их действия повлияли на результаты теста. Посчитаем статистическую значимость различий в среднем количестве заказов между группами теста по очищенным данным. \n",
    "\n",
    "Сформулируем гипотезы. Нулевая: Статистически значимых различий в среднем количестве заказов между группами по \"очищенным\" данным нет. Альтернативная: Статистически значимых различий в среднем количестве заказов между группами по \"очищенным\" данным есть.\n",
    "\n",
    "Значение alpha возьмем равное 0.05. Проверку будем выполнять критерием Манна-Уитни. \n",
    "\n",
    "Сначала подготовим выборки количества заказов по пользователям по группам теста:"
   ]
  },
  {
   "cell_type": "code",
   "execution_count": 30,
   "metadata": {},
   "outputs": [],
   "source": [
    "sampleAFiltered = pd.concat(\n",
    "    [\n",
    "        ordersByUsersA[\n",
    "            np.logical_not(ordersByUsersA['userId'].isin(abnormalUsers))\n",
    "        ]['orders'],\n",
    "        pd.Series(\n",
    "            0,\n",
    "            index=np.arange(\n",
    "                data['visitorsPerDateA'].sum() - len(ordersByUsersA['orders'])\n",
    "            ),\n",
    "            name='orders',\n",
    "        ),\n",
    "    ],\n",
    "    axis=0,\n",
    ")\n",
    "\n",
    "sampleBFiltered = pd.concat(\n",
    "    [\n",
    "        ordersByUsersB[\n",
    "            np.logical_not(ordersByUsersB['userId'].isin(abnormalUsers))\n",
    "        ]['orders'],\n",
    "        pd.Series(\n",
    "            0,\n",
    "            index=np.arange(\n",
    "                data['visitorsPerDateB'].sum() - len(ordersByUsersB['orders'])\n",
    "            ),\n",
    "            name='orders',\n",
    "        ),\n",
    "    ],\n",
    "    axis=0,\n",
    ") "
   ]
  },
  {
   "cell_type": "code",
   "execution_count": 31,
   "metadata": {},
   "outputs": [
    {
     "name": "stdout",
     "output_type": "stream",
     "text": [
      "p-value 0.013\n",
      "Относительный прирост среднего числа заказов группы B = 0.173\n"
     ]
    }
   ],
   "source": [
    "print('p-value {0:.3f}'.format(st.mannwhitneyu(sampleAFiltered, sampleBFiltered)[1]))\n",
    "print('Относительный прирост среднего числа заказов группы B = {0:.3f}'.format(sampleBFiltered.mean()/sampleAFiltered.mean()-1)) "
   ]
  },
  {
   "cell_type": "markdown",
   "metadata": {},
   "source": [
    "Результаты по среднему количеству заказов практически не изменились, и следовательно, мы можем отвергнуть нулевую гипотезу."
   ]
  },
  {
   "cell_type": "markdown",
   "metadata": {},
   "source": [
    "#### Cчитаем статистическую значимость различий в среднем чеке заказа между группами по «очищенным» данным. "
   ]
  },
  {
   "cell_type": "markdown",
   "metadata": {},
   "source": [
    "Нулевая гипотеза: Статистически значимых различий в среднем чеке по \"очищенным\" данным между группами нет. Альтернативная гипотеза:  Статистически значимых различий в среднем чеке по \"очищенным\" данным между группами есть. \n",
    "\n",
    "Значение alpha возьмем равное 0.05. Проверку будем выполнять критерием Манна-Уитни. "
   ]
  },
  {
   "cell_type": "code",
   "execution_count": 32,
   "metadata": {},
   "outputs": [
    {
     "name": "stdout",
     "output_type": "stream",
     "text": [
      " p-value 0.738\n",
      "Относительный прирост среднего числа заказов группы B =  -0.020\n"
     ]
    }
   ],
   "source": [
    "print(\n",
    "    ' p-value {0:.3f}'.format(\n",
    "        st.mannwhitneyu(\n",
    "            orders[\n",
    "                np.logical_and(\n",
    "                    orders['group'] == 'A',\n",
    "                    np.logical_not(orders['visitorId'].isin(abnormalUsers)),\n",
    "                )\n",
    "            ]['revenue'],\n",
    "            orders[\n",
    "                np.logical_and(\n",
    "                    orders['group'] == 'B',\n",
    "                    np.logical_not(orders['visitorId'].isin(abnormalUsers)),\n",
    "                )\n",
    "            ]['revenue'],\n",
    "        )[1]\n",
    "    )\n",
    ")\n",
    "\n",
    "print(\n",
    "    \"Относительный прирост среднего числа заказов группы B =  {0:.3f}\".format(\n",
    "        orders[\n",
    "            np.logical_and(\n",
    "                orders['group'] == 'B',\n",
    "                np.logical_not(orders['visitorId'].isin(abnormalUsers)),\n",
    "            )\n",
    "        ]['revenue'].mean()\n",
    "        / orders[\n",
    "            np.logical_and(\n",
    "                orders['group'] == 'A',\n",
    "                np.logical_not(orders['visitorId'].isin(abnormalUsers)),\n",
    "            )\n",
    "        ]['revenue'].mean()\n",
    "        - 1\n",
    "    )\n",
    ") \n"
   ]
  },
  {
   "cell_type": "markdown",
   "metadata": {},
   "source": [
    "P-value немного увеличился по сравнению с \"сырыми\" данными, а значит нулевую гипотезу о том, что статистически значимых различий в среднем числе заказов между группами нет мы так же не отвергаем. Разница между сегментами сократилась с 25% до -2%. Это значит, что по \"очищенным\" данным группа В проигрывает группе А в среднем чеке заказов.\n"
   ]
  },
  {
   "cell_type": "markdown",
   "metadata": {},
   "source": [
    "#### Еще раз построим графики относительных изменений"
   ]
  },
  {
   "cell_type": "code",
   "execution_count": 33,
   "metadata": {},
   "outputs": [
    {
     "data": {
      "image/png": "[encoded data removed]",
      "text/plain": [
       "<Figure size 1500x600 with 1 Axes>"
      ]
     },
     "metadata": {},
     "output_type": "display_data"
    }
   ],
   "source": [
    "# удалим выбросы\n",
    "orders1=orders[np.logical_not(orders['visitorId'].isin(abnormalUsers))]\n",
    "\n",
    "# создаем массив уникальных пар значений дат и групп теста\n",
    "datesGroups = orders1[['date','group']].drop_duplicates()\n",
    "\n",
    "# получаем агрегированные кумулятивные по дням данные о заказах \n",
    "ordersAggregated = datesGroups.apply(lambda x: orders1[np.logical_and(orders1['date'] <= x['date'], orders1['group'] == x['group'])].agg({'date' : 'max', 'group' : 'max', 'transactionId' : 'nunique', 'visitorId' : 'nunique', 'revenue' : 'sum'}), axis=1).sort_values(by=['date','group'])\n",
    "\n",
    "# получаем агрегированные кумулятивные по дням данные о посетителях интернет-магазина \n",
    "visitorsAggregated = datesGroups.apply(lambda x: visitors[np.logical_and(visitors['date'] <= x['date'], visitors['group'] == x['group'])].agg({'date' : 'max', 'group' : 'max', 'visitors' : 'sum'}), axis=1).sort_values(by=['date','group'])\n",
    "\n",
    "# объединяем кумулятивные данные в одной таблице и присваиваем ее столбцам понятные названия\n",
    "cumulativeData = ordersAggregated.merge(visitorsAggregated, left_on=['date', 'group'], right_on=['date', 'group'])\n",
    "cumulativeData.columns = ['date', 'group', 'orders', 'buyers', 'revenue', 'visitors']\n",
    "\n",
    "# датафрейм с кумулятивным количеством заказов и кумулятивной выручкой по дням в группе А\n",
    "cumulativeRevenueA = cumulativeData[cumulativeData['group']=='A'][['date','revenue', 'orders']]\n",
    "\n",
    "# датафрейм с кумулятивным количеством заказов и кумулятивной выручкой по дням в группе B\n",
    "cumulativeRevenueB = cumulativeData[cumulativeData['group']=='B'][['date','revenue', 'orders']]\n",
    "\n",
    "\n",
    "# задаем размеры графика\n",
    "plt.figure(figsize=(15,6))\n",
    "# собираем данные в одном датафрейме\n",
    "mergedCumulativeRevenue = cumulativeRevenueA.merge(cumulativeRevenueB, left_on='date', right_on='date', how='left', suffixes=['A', 'B'])\n",
    "\n",
    "# cтроим отношение средних чеков\n",
    "plt.plot(mergedCumulativeRevenue['date'], (mergedCumulativeRevenue['revenueB']/mergedCumulativeRevenue['ordersB'])/(mergedCumulativeRevenue['revenueA']/mergedCumulativeRevenue['ordersA'])-1)\n",
    "\n",
    "plt.title('График относительного изменения кумулятивного среднего чека группы B к группе A по \"очищенным\" данным')\n",
    "plt.xlabel('Даты')\n",
    "plt.ylabel('Средний чек')\n",
    "\n",
    "# добавляем ось X\n",
    "plt.axhline(y=0, color='black', linestyle='--');"
   ]
  },
  {
   "cell_type": "code",
   "execution_count": 34,
   "metadata": {},
   "outputs": [
    {
     "data": {
      "image/png": "[encoded data removed]",
      "text/plain": [
       "<Figure size 1500x600 with 1 Axes>"
      ]
     },
     "metadata": {},
     "output_type": "display_data"
    }
   ],
   "source": [
    "# датафрейм с кумулятивным количеством заказов и кумулятивной выручкой по дням в группе А\n",
    "cumulatiVevisitorsA = cumulativeData[cumulativeData['group']=='A'][['date','visitors', 'orders']]\n",
    "\n",
    "# датафрейм с кумулятивным количеством заказов и кумулятивной выручкой по дням в группе B\n",
    "cumulatiVevisitorsB = cumulativeData[cumulativeData['group']=='B'][['date','visitors', 'orders']]\n",
    "\n",
    "# задаем размеры графика\n",
    "plt.figure(figsize=(15,6))\n",
    "# собираем данные в одном датафрейме\n",
    "mergedCumulativeVevisitors = cumulatiVevisitorsA.merge(cumulatiVevisitorsB, left_on='date', right_on='date', how='left', suffixes=['A', 'B'])\n",
    "\n",
    "# cтроим отношение средних чеков\n",
    "plt.plot(mergedCumulativeVevisitors['date'], (mergedCumulativeVevisitors['ordersB']/mergedCumulativeVevisitors['visitorsB'])/(mergedCumulativeVevisitors['ordersA']/mergedCumulativeVevisitors['visitorsA'])-1)\n",
    "\n",
    "plt.title('График относительного изменения кумулятивного среднего количества заказов на посетителя группы B к группе A по \"очищенным\" данным')\n",
    "\n",
    "plt.xlabel('Даты')\n",
    "plt.ylabel('Относительная разница') \n",
    "# добавляем ось X\n",
    "plt.axhline(y=0, color='black', linestyle='--')\n",
    "plt.axhline(y=0.15, color='grey', linestyle='--');\n"
   ]
  },
  {
   "cell_type": "markdown",
   "metadata": {},
   "source": [
    "### Вывод"
   ]
  },
  {
   "cell_type": "markdown",
   "metadata": {},
   "source": [
    "* Есть статистически значимое различия по среднему количеству заказов между группами по «сырым» и по данным после фильтрации аномалий, и разница составляем примерно 14%;\n",
    "\n",
    "* Нет статистически значимого различия по среднему чеку между группами ни по «сырым», ни по данным после фильтрации аномалий;\n",
    "\n",
    "* График различия среднего количества заказов между группами сообщает, что результаты группы В значительно лучше группы А. И эта величина  продолжает расти.\n",
    "\n",
    "* График различия среднего чека говорит о том, что результаты группы меняются в течении теста. После 21 августа лучшие результаты были у группы В, после 25 августа у А. Но виден рост, а значит увеличение среднего чека для группы В.\n",
    "\n",
    "\n",
    "Исходя из обнаруженных фактов, тест можно остановить и признать его успешным. "
   ]
  }
 ],
 "metadata": {
  "ExecuteTimeLog": [
   {
    "duration": 369,
    "start_time": "2023-06-24T00:52:02.755Z"
   },
   {
    "duration": 57,
    "start_time": "2023-06-24T00:53:11.824Z"
   },
   {
    "duration": 76,
    "start_time": "2023-06-24T00:53:18.541Z"
   },
   {
    "duration": 3,
    "start_time": "2023-06-24T00:58:47.865Z"
   },
   {
    "duration": 31,
    "start_time": "2023-06-24T00:58:48.371Z"
   },
   {
    "duration": 33,
    "start_time": "2023-06-24T00:59:03.065Z"
   },
   {
    "duration": 12,
    "start_time": "2023-06-24T01:06:41.189Z"
   },
   {
    "duration": 10,
    "start_time": "2023-06-24T01:06:48.707Z"
   },
   {
    "duration": 10,
    "start_time": "2023-06-24T01:10:53.442Z"
   },
   {
    "duration": 11,
    "start_time": "2023-06-24T01:13:49.415Z"
   },
   {
    "duration": 11,
    "start_time": "2023-06-24T01:14:01.830Z"
   },
   {
    "duration": 164,
    "start_time": "2023-06-24T01:25:40.462Z"
   },
   {
    "duration": 70,
    "start_time": "2023-06-24T01:25:58.145Z"
   },
   {
    "duration": 31,
    "start_time": "2023-06-24T01:26:16.881Z"
   },
   {
    "duration": 62,
    "start_time": "2023-06-24T01:26:18.617Z"
   },
   {
    "duration": 58,
    "start_time": "2023-06-24T02:30:41.792Z"
   },
   {
    "duration": 64,
    "start_time": "2023-06-24T02:32:16.228Z"
   },
   {
    "duration": 62,
    "start_time": "2023-06-24T02:32:37.416Z"
   },
   {
    "duration": 60,
    "start_time": "2023-06-24T02:32:59.691Z"
   },
   {
    "duration": 61,
    "start_time": "2023-06-24T02:34:26.889Z"
   },
   {
    "duration": 466,
    "start_time": "2023-06-24T02:39:45.891Z"
   },
   {
    "duration": 19,
    "start_time": "2023-06-24T02:40:02.463Z"
   },
   {
    "duration": 61,
    "start_time": "2023-06-24T02:40:33.891Z"
   },
   {
    "duration": 60,
    "start_time": "2023-06-24T02:40:48.016Z"
   },
   {
    "duration": 37,
    "start_time": "2023-06-24T02:41:48.609Z"
   },
   {
    "duration": 74,
    "start_time": "2023-06-24T02:43:07.636Z"
   },
   {
    "duration": 964,
    "start_time": "2023-06-24T02:43:15.192Z"
   },
   {
    "duration": 259,
    "start_time": "2023-06-24T02:43:35.951Z"
   },
   {
    "duration": 247,
    "start_time": "2023-06-24T02:43:54.383Z"
   },
   {
    "duration": 10,
    "start_time": "2023-06-24T02:44:13.185Z"
   },
   {
    "duration": 68,
    "start_time": "2023-06-24T02:45:47.057Z"
   },
   {
    "duration": 2,
    "start_time": "2023-06-24T02:52:36.894Z"
   },
   {
    "duration": 5,
    "start_time": "2023-06-24T02:56:51.192Z"
   },
   {
    "duration": 9,
    "start_time": "2023-06-24T02:56:57.052Z"
   },
   {
    "duration": 26,
    "start_time": "2023-06-24T02:57:36.330Z"
   },
   {
    "duration": 259,
    "start_time": "2023-06-24T02:59:14.832Z"
   },
   {
    "duration": 282,
    "start_time": "2023-06-24T03:01:06.240Z"
   },
   {
    "duration": 831,
    "start_time": "2023-06-24T03:01:44.040Z"
   },
   {
    "duration": 37,
    "start_time": "2023-06-24T03:01:44.873Z"
   },
   {
    "duration": 10,
    "start_time": "2023-06-24T03:01:44.912Z"
   },
   {
    "duration": 16,
    "start_time": "2023-06-24T03:01:44.923Z"
   },
   {
    "duration": 57,
    "start_time": "2023-06-24T03:01:44.941Z"
   },
   {
    "duration": 18,
    "start_time": "2023-06-24T03:01:44.999Z"
   },
   {
    "duration": 81,
    "start_time": "2023-06-24T03:01:45.019Z"
   },
   {
    "duration": 404,
    "start_time": "2023-06-24T03:01:45.101Z"
   },
   {
    "duration": 0,
    "start_time": "2023-06-24T03:01:45.507Z"
   },
   {
    "duration": 0,
    "start_time": "2023-06-24T03:01:45.508Z"
   },
   {
    "duration": 37,
    "start_time": "2023-06-24T03:04:36.224Z"
   },
   {
    "duration": 268,
    "start_time": "2023-06-24T03:04:40.942Z"
   },
   {
    "duration": 11,
    "start_time": "2023-06-24T03:05:05.980Z"
   },
   {
    "duration": 7,
    "start_time": "2023-06-24T03:05:14.597Z"
   },
   {
    "duration": 259,
    "start_time": "2023-06-24T03:05:15.560Z"
   },
   {
    "duration": 769,
    "start_time": "2023-06-24T03:05:29.191Z"
   },
   {
    "duration": 39,
    "start_time": "2023-06-24T03:05:29.962Z"
   },
   {
    "duration": 11,
    "start_time": "2023-06-24T03:05:30.003Z"
   },
   {
    "duration": 71,
    "start_time": "2023-06-24T03:05:30.016Z"
   },
   {
    "duration": 135,
    "start_time": "2023-06-24T03:05:30.090Z"
   },
   {
    "duration": 19,
    "start_time": "2023-06-24T03:05:30.226Z"
   },
   {
    "duration": 74,
    "start_time": "2023-06-24T03:05:30.246Z"
   },
   {
    "duration": 37,
    "start_time": "2023-06-24T03:05:30.321Z"
   },
   {
    "duration": 34,
    "start_time": "2023-06-24T03:05:30.360Z"
   },
   {
    "duration": 289,
    "start_time": "2023-06-24T03:05:30.396Z"
   },
   {
    "duration": 88,
    "start_time": "2023-06-24T03:06:15.902Z"
   },
   {
    "duration": 393,
    "start_time": "2023-06-24T03:06:29.492Z"
   },
   {
    "duration": 238,
    "start_time": "2023-06-24T03:06:33.894Z"
   },
   {
    "duration": 182,
    "start_time": "2023-06-24T03:06:38.996Z"
   },
   {
    "duration": 184,
    "start_time": "2023-06-24T03:09:38.499Z"
   },
   {
    "duration": 161,
    "start_time": "2023-06-24T03:10:01.293Z"
   },
   {
    "duration": 104,
    "start_time": "2023-06-24T03:11:16.888Z"
   },
   {
    "duration": 236,
    "start_time": "2023-06-24T03:11:32.908Z"
   },
   {
    "duration": 184,
    "start_time": "2023-06-24T03:11:43.004Z"
   },
   {
    "duration": 200,
    "start_time": "2023-06-24T03:12:32.423Z"
   },
   {
    "duration": 225,
    "start_time": "2023-06-24T03:12:41.661Z"
   },
   {
    "duration": 258,
    "start_time": "2023-06-24T03:13:34.098Z"
   },
   {
    "duration": 194,
    "start_time": "2023-06-24T03:38:04.522Z"
   },
   {
    "duration": 287,
    "start_time": "2023-06-24T03:38:19.934Z"
   },
   {
    "duration": 147,
    "start_time": "2023-06-24T03:38:27.093Z"
   },
   {
    "duration": 171,
    "start_time": "2023-06-24T03:38:49.616Z"
   },
   {
    "duration": 158,
    "start_time": "2023-06-24T03:39:02.919Z"
   },
   {
    "duration": 171,
    "start_time": "2023-06-24T03:39:12.695Z"
   },
   {
    "duration": 331,
    "start_time": "2023-06-24T03:45:57.927Z"
   },
   {
    "duration": 202,
    "start_time": "2023-06-24T03:46:03.995Z"
   },
   {
    "duration": 309,
    "start_time": "2023-06-24T03:46:17.213Z"
   },
   {
    "duration": 177,
    "start_time": "2023-06-24T03:47:09.951Z"
   },
   {
    "duration": 387,
    "start_time": "2023-06-24T03:47:41.746Z"
   },
   {
    "duration": 1168,
    "start_time": "2023-06-24T17:28:29.866Z"
   },
   {
    "duration": 124,
    "start_time": "2023-06-24T17:28:31.036Z"
   },
   {
    "duration": 10,
    "start_time": "2023-06-24T17:28:31.162Z"
   },
   {
    "duration": 29,
    "start_time": "2023-06-24T17:28:31.174Z"
   },
   {
    "duration": 118,
    "start_time": "2023-06-24T17:28:31.204Z"
   },
   {
    "duration": 17,
    "start_time": "2023-06-24T17:28:31.323Z"
   },
   {
    "duration": 86,
    "start_time": "2023-06-24T17:28:31.341Z"
   },
   {
    "duration": 10,
    "start_time": "2023-06-24T17:28:31.429Z"
   },
   {
    "duration": 53,
    "start_time": "2023-06-24T17:28:31.441Z"
   },
   {
    "duration": 271,
    "start_time": "2023-06-24T17:28:31.495Z"
   },
   {
    "duration": 268,
    "start_time": "2023-06-24T17:28:31.767Z"
   },
   {
    "duration": 195,
    "start_time": "2023-06-24T17:28:32.036Z"
   },
   {
    "duration": 344,
    "start_time": "2023-06-24T17:28:32.233Z"
   },
   {
    "duration": 103,
    "start_time": "2023-06-24T17:53:01.707Z"
   },
   {
    "duration": 1702,
    "start_time": "2023-06-24T18:00:23.504Z"
   },
   {
    "duration": 193,
    "start_time": "2023-06-24T18:02:44.111Z"
   },
   {
    "duration": 197,
    "start_time": "2023-06-24T18:03:02.745Z"
   },
   {
    "duration": 1206,
    "start_time": "2023-06-25T23:50:16.003Z"
   },
   {
    "duration": 134,
    "start_time": "2023-06-25T23:50:17.211Z"
   },
   {
    "duration": 10,
    "start_time": "2023-06-25T23:50:17.347Z"
   },
   {
    "duration": 25,
    "start_time": "2023-06-25T23:50:17.359Z"
   },
   {
    "duration": 255,
    "start_time": "2023-06-25T23:50:17.386Z"
   },
   {
    "duration": 17,
    "start_time": "2023-06-25T23:50:17.643Z"
   },
   {
    "duration": 112,
    "start_time": "2023-06-25T23:50:17.661Z"
   },
   {
    "duration": 9,
    "start_time": "2023-06-25T23:50:17.775Z"
   },
   {
    "duration": 8,
    "start_time": "2023-06-25T23:50:17.785Z"
   },
   {
    "duration": 289,
    "start_time": "2023-06-25T23:50:17.794Z"
   },
   {
    "duration": 304,
    "start_time": "2023-06-25T23:50:18.084Z"
   },
   {
    "duration": 205,
    "start_time": "2023-06-25T23:50:18.390Z"
   },
   {
    "duration": 345,
    "start_time": "2023-06-25T23:50:18.599Z"
   },
   {
    "duration": 214,
    "start_time": "2023-06-25T23:50:18.947Z"
   },
   {
    "duration": 283,
    "start_time": "2023-06-26T00:09:30.959Z"
   },
   {
    "duration": 117,
    "start_time": "2023-06-26T00:20:05.540Z"
   },
   {
    "duration": 8,
    "start_time": "2023-06-26T00:20:49.490Z"
   },
   {
    "duration": 132,
    "start_time": "2023-06-26T00:21:04.186Z"
   },
   {
    "duration": 102,
    "start_time": "2023-06-26T00:21:11.541Z"
   },
   {
    "duration": 10,
    "start_time": "2023-06-26T00:22:18.446Z"
   },
   {
    "duration": 4,
    "start_time": "2023-06-26T00:27:10.947Z"
   },
   {
    "duration": 6,
    "start_time": "2023-06-26T00:30:43.738Z"
   },
   {
    "duration": 134,
    "start_time": "2023-06-26T00:32:59.026Z"
   },
   {
    "duration": 116,
    "start_time": "2023-06-26T00:33:12.430Z"
   },
   {
    "duration": 149,
    "start_time": "2023-06-26T00:33:47.638Z"
   },
   {
    "duration": 5,
    "start_time": "2023-06-26T00:34:55.346Z"
   },
   {
    "duration": 987,
    "start_time": "2023-06-26T01:21:36.130Z"
   },
   {
    "duration": 90,
    "start_time": "2023-06-26T01:21:37.119Z"
   },
   {
    "duration": 17,
    "start_time": "2023-06-26T01:21:37.213Z"
   },
   {
    "duration": 26,
    "start_time": "2023-06-26T01:21:37.232Z"
   },
   {
    "duration": 73,
    "start_time": "2023-06-26T01:21:37.261Z"
   },
   {
    "duration": 20,
    "start_time": "2023-06-26T01:21:37.335Z"
   },
   {
    "duration": 39,
    "start_time": "2023-06-26T01:21:37.356Z"
   },
   {
    "duration": 29,
    "start_time": "2023-06-26T01:21:37.397Z"
   },
   {
    "duration": 21,
    "start_time": "2023-06-26T01:21:37.428Z"
   },
   {
    "duration": 330,
    "start_time": "2023-06-26T01:21:37.451Z"
   },
   {
    "duration": 298,
    "start_time": "2023-06-26T01:21:37.783Z"
   },
   {
    "duration": 288,
    "start_time": "2023-06-26T01:21:38.084Z"
   },
   {
    "duration": 348,
    "start_time": "2023-06-26T01:21:38.374Z"
   },
   {
    "duration": 271,
    "start_time": "2023-06-26T01:21:38.725Z"
   },
   {
    "duration": 299,
    "start_time": "2023-06-26T01:21:39.010Z"
   },
   {
    "duration": 9,
    "start_time": "2023-06-26T01:21:39.310Z"
   },
   {
    "duration": 111,
    "start_time": "2023-06-26T01:21:39.321Z"
   },
   {
    "duration": 5,
    "start_time": "2023-06-26T01:21:39.434Z"
   },
   {
    "duration": 180,
    "start_time": "2023-06-26T01:21:39.441Z"
   },
   {
    "duration": 5,
    "start_time": "2023-06-26T01:21:39.626Z"
   },
   {
    "duration": 246,
    "start_time": "2023-06-26T01:28:31.997Z"
   },
   {
    "duration": 217,
    "start_time": "2023-06-26T01:36:00.298Z"
   },
   {
    "duration": 244,
    "start_time": "2023-06-26T01:38:20.434Z"
   },
   {
    "duration": 161,
    "start_time": "2023-06-26T01:39:09.626Z"
   },
   {
    "duration": 9,
    "start_time": "2023-06-26T01:58:44.879Z"
   },
   {
    "duration": 9,
    "start_time": "2023-06-26T01:58:53.126Z"
   },
   {
    "duration": 1284,
    "start_time": "2023-06-26T02:07:23.912Z"
   },
   {
    "duration": 20,
    "start_time": "2023-06-26T02:08:01.514Z"
   },
   {
    "duration": 8,
    "start_time": "2023-06-26T02:09:05.232Z"
   },
   {
    "duration": 8,
    "start_time": "2023-06-26T02:09:18.841Z"
   },
   {
    "duration": 26,
    "start_time": "2023-06-26T02:09:23.824Z"
   },
   {
    "duration": 15,
    "start_time": "2023-06-26T02:11:40.918Z"
   },
   {
    "duration": 14,
    "start_time": "2023-06-26T02:11:51.026Z"
   },
   {
    "duration": 11,
    "start_time": "2023-06-26T02:20:42.654Z"
   },
   {
    "duration": 8,
    "start_time": "2023-06-26T02:20:57.832Z"
   },
   {
    "duration": 20,
    "start_time": "2023-06-26T02:20:59.040Z"
   },
   {
    "duration": 17,
    "start_time": "2023-06-26T02:21:15.828Z"
   },
   {
    "duration": 8,
    "start_time": "2023-06-26T02:22:18.530Z"
   },
   {
    "duration": 11,
    "start_time": "2023-06-26T02:22:27.997Z"
   },
   {
    "duration": 20,
    "start_time": "2023-06-26T02:22:30.057Z"
   },
   {
    "duration": 15,
    "start_time": "2023-06-26T02:22:36.027Z"
   },
   {
    "duration": 42,
    "start_time": "2023-06-26T02:39:11.689Z"
   },
   {
    "duration": 13,
    "start_time": "2023-06-26T02:41:28.147Z"
   },
   {
    "duration": 17,
    "start_time": "2023-06-26T02:42:14.526Z"
   },
   {
    "duration": 13,
    "start_time": "2023-06-26T02:42:49.863Z"
   },
   {
    "duration": 10,
    "start_time": "2023-06-26T03:13:35.327Z"
   },
   {
    "duration": 5,
    "start_time": "2023-06-26T03:13:57.923Z"
   },
   {
    "duration": 11,
    "start_time": "2023-06-26T03:14:12.624Z"
   },
   {
    "duration": 1105,
    "start_time": "2023-06-26T03:14:51.424Z"
   },
   {
    "duration": 58,
    "start_time": "2023-06-26T03:14:52.531Z"
   },
   {
    "duration": 34,
    "start_time": "2023-06-26T03:14:52.590Z"
   },
   {
    "duration": 39,
    "start_time": "2023-06-26T03:14:52.630Z"
   },
   {
    "duration": 77,
    "start_time": "2023-06-26T03:14:52.671Z"
   },
   {
    "duration": 18,
    "start_time": "2023-06-26T03:14:52.750Z"
   },
   {
    "duration": 35,
    "start_time": "2023-06-26T03:14:52.769Z"
   },
   {
    "duration": 22,
    "start_time": "2023-06-26T03:14:52.816Z"
   },
   {
    "duration": 34,
    "start_time": "2023-06-26T03:14:52.839Z"
   },
   {
    "duration": 263,
    "start_time": "2023-06-26T03:14:52.875Z"
   },
   {
    "duration": 294,
    "start_time": "2023-06-26T03:14:53.139Z"
   },
   {
    "duration": 256,
    "start_time": "2023-06-26T03:14:53.435Z"
   },
   {
    "duration": 317,
    "start_time": "2023-06-26T03:14:53.692Z"
   },
   {
    "duration": 215,
    "start_time": "2023-06-26T03:14:54.022Z"
   },
   {
    "duration": 295,
    "start_time": "2023-06-26T03:14:54.238Z"
   },
   {
    "duration": 11,
    "start_time": "2023-06-26T03:14:54.535Z"
   },
   {
    "duration": 136,
    "start_time": "2023-06-26T03:14:54.548Z"
   },
   {
    "duration": 4,
    "start_time": "2023-06-26T03:14:54.685Z"
   },
   {
    "duration": 179,
    "start_time": "2023-06-26T03:14:54.691Z"
   },
   {
    "duration": 4,
    "start_time": "2023-06-26T03:14:54.872Z"
   },
   {
    "duration": 213,
    "start_time": "2023-06-26T03:14:54.877Z"
   },
   {
    "duration": 184,
    "start_time": "2023-06-26T03:14:55.092Z"
   },
   {
    "duration": 10,
    "start_time": "2023-06-26T03:14:55.277Z"
   },
   {
    "duration": 41,
    "start_time": "2023-06-26T03:14:55.299Z"
   },
   {
    "duration": 17,
    "start_time": "2023-06-26T03:14:55.341Z"
   },
   {
    "duration": 35,
    "start_time": "2023-06-26T03:14:55.360Z"
   },
   {
    "duration": 36,
    "start_time": "2023-06-26T03:14:55.397Z"
   },
   {
    "duration": 155,
    "start_time": "2023-06-26T03:14:55.434Z"
   },
   {
    "duration": 13,
    "start_time": "2023-06-26T03:15:13.328Z"
   },
   {
    "duration": 1236,
    "start_time": "2023-06-26T03:16:42.019Z"
   },
   {
    "duration": 86,
    "start_time": "2023-06-26T03:16:43.257Z"
   },
   {
    "duration": 12,
    "start_time": "2023-06-26T03:16:43.344Z"
   },
   {
    "duration": 11,
    "start_time": "2023-06-26T03:16:43.358Z"
   },
   {
    "duration": 59,
    "start_time": "2023-06-26T03:16:43.371Z"
   },
   {
    "duration": 19,
    "start_time": "2023-06-26T03:16:43.432Z"
   },
   {
    "duration": 29,
    "start_time": "2023-06-26T03:16:43.453Z"
   },
   {
    "duration": 14,
    "start_time": "2023-06-26T03:16:43.483Z"
   },
   {
    "duration": 30,
    "start_time": "2023-06-26T03:16:43.498Z"
   },
   {
    "duration": 308,
    "start_time": "2023-06-26T03:16:43.531Z"
   },
   {
    "duration": 295,
    "start_time": "2023-06-26T03:16:43.840Z"
   },
   {
    "duration": 193,
    "start_time": "2023-06-26T03:16:44.137Z"
   },
   {
    "duration": 288,
    "start_time": "2023-06-26T03:16:44.332Z"
   },
   {
    "duration": 215,
    "start_time": "2023-06-26T03:16:44.623Z"
   },
   {
    "duration": 301,
    "start_time": "2023-06-26T03:16:44.840Z"
   },
   {
    "duration": 9,
    "start_time": "2023-06-26T03:16:45.143Z"
   },
   {
    "duration": 124,
    "start_time": "2023-06-26T03:16:45.154Z"
   },
   {
    "duration": 4,
    "start_time": "2023-06-26T03:16:45.279Z"
   },
   {
    "duration": 237,
    "start_time": "2023-06-26T03:16:45.284Z"
   },
   {
    "duration": 5,
    "start_time": "2023-06-26T03:16:45.523Z"
   },
   {
    "duration": 209,
    "start_time": "2023-06-26T03:16:45.529Z"
   },
   {
    "duration": 167,
    "start_time": "2023-06-26T03:16:45.739Z"
   },
   {
    "duration": 17,
    "start_time": "2023-06-26T03:16:45.910Z"
   },
   {
    "duration": 23,
    "start_time": "2023-06-26T03:16:45.928Z"
   },
   {
    "duration": 15,
    "start_time": "2023-06-26T03:16:45.953Z"
   },
   {
    "duration": 48,
    "start_time": "2023-06-26T03:16:45.969Z"
   },
   {
    "duration": 26,
    "start_time": "2023-06-26T03:16:46.018Z"
   },
   {
    "duration": 7,
    "start_time": "2023-06-26T03:17:41.630Z"
   },
   {
    "duration": 4,
    "start_time": "2023-06-26T03:18:32.014Z"
   },
   {
    "duration": 5,
    "start_time": "2023-06-26T03:18:59.392Z"
   },
   {
    "duration": 6,
    "start_time": "2023-06-26T03:19:13.212Z"
   },
   {
    "duration": 9,
    "start_time": "2023-06-26T03:20:59.298Z"
   },
   {
    "duration": 17,
    "start_time": "2023-06-26T03:24:36.300Z"
   },
   {
    "duration": 263,
    "start_time": "2023-06-26T03:25:48.655Z"
   },
   {
    "duration": 7,
    "start_time": "2023-06-26T03:26:16.915Z"
   },
   {
    "duration": 127,
    "start_time": "2023-06-26T03:28:20.715Z"
   },
   {
    "duration": 142,
    "start_time": "2023-06-26T03:28:28.825Z"
   },
   {
    "duration": 167,
    "start_time": "2023-06-26T03:28:41.560Z"
   },
   {
    "duration": 268,
    "start_time": "2023-06-26T03:29:56.522Z"
   },
   {
    "duration": 204,
    "start_time": "2023-06-26T03:30:22.738Z"
   },
   {
    "duration": 621,
    "start_time": "2023-06-26T03:31:02.769Z"
   },
   {
    "duration": 4,
    "start_time": "2023-06-26T03:32:04.061Z"
   },
   {
    "duration": 171,
    "start_time": "2023-06-26T03:32:07.887Z"
   },
   {
    "duration": 24,
    "start_time": "2023-06-26T03:32:33.496Z"
   },
   {
    "duration": 269,
    "start_time": "2023-06-26T03:32:48.469Z"
   },
   {
    "duration": 5,
    "start_time": "2023-06-26T03:33:06.853Z"
   },
   {
    "duration": 145,
    "start_time": "2023-06-26T03:33:09.841Z"
   },
   {
    "duration": 530,
    "start_time": "2023-06-26T03:35:35.419Z"
   },
   {
    "duration": 62,
    "start_time": "2023-06-26T03:35:56.717Z"
   },
   {
    "duration": 4,
    "start_time": "2023-06-26T03:36:05.537Z"
   },
   {
    "duration": 14,
    "start_time": "2023-06-26T03:36:09.267Z"
   },
   {
    "duration": 4,
    "start_time": "2023-06-26T03:38:23.747Z"
   },
   {
    "duration": 4,
    "start_time": "2023-06-26T03:38:31.418Z"
   },
   {
    "duration": 77,
    "start_time": "2023-06-26T03:39:06.039Z"
   },
   {
    "duration": 11,
    "start_time": "2023-06-26T03:39:17.211Z"
   },
   {
    "duration": 6,
    "start_time": "2023-06-26T03:40:09.156Z"
   },
   {
    "duration": 315,
    "start_time": "2023-06-26T03:40:11.611Z"
   },
   {
    "duration": 9,
    "start_time": "2023-06-26T03:40:37.727Z"
   },
   {
    "duration": 6,
    "start_time": "2023-06-26T03:41:17.016Z"
   },
   {
    "duration": 8,
    "start_time": "2023-06-26T03:41:47.311Z"
   },
   {
    "duration": 12,
    "start_time": "2023-06-26T03:42:14.859Z"
   },
   {
    "duration": 255,
    "start_time": "2023-06-26T03:42:21.722Z"
   },
   {
    "duration": 290,
    "start_time": "2023-06-26T03:42:24.902Z"
   },
   {
    "duration": 271,
    "start_time": "2023-06-26T03:42:54.690Z"
   },
   {
    "duration": 204,
    "start_time": "2023-06-26T03:43:59.719Z"
   },
   {
    "duration": 243,
    "start_time": "2023-06-26T03:46:11.232Z"
   },
   {
    "duration": 245,
    "start_time": "2023-06-26T03:46:24.652Z"
   },
   {
    "duration": 209,
    "start_time": "2023-06-26T03:47:39.143Z"
   },
   {
    "duration": 311,
    "start_time": "2023-06-26T03:48:05.150Z"
   },
   {
    "duration": 4,
    "start_time": "2023-06-26T03:51:30.535Z"
   },
   {
    "duration": 258,
    "start_time": "2023-06-26T03:51:37.911Z"
   },
   {
    "duration": 6,
    "start_time": "2023-06-26T03:51:55.209Z"
   },
   {
    "duration": 254,
    "start_time": "2023-06-26T03:51:55.734Z"
   },
   {
    "duration": 291,
    "start_time": "2023-06-26T03:51:57.166Z"
   },
   {
    "duration": 184,
    "start_time": "2023-06-26T03:52:10.204Z"
   },
   {
    "duration": 253,
    "start_time": "2023-06-26T03:52:32.039Z"
   },
   {
    "duration": 415,
    "start_time": "2023-06-26T03:52:41.261Z"
   },
   {
    "duration": 602,
    "start_time": "2023-06-26T03:54:51.413Z"
   },
   {
    "duration": 295,
    "start_time": "2023-06-26T03:55:30.630Z"
   },
   {
    "duration": 1038,
    "start_time": "2023-06-26T04:04:03.663Z"
   },
   {
    "duration": 80,
    "start_time": "2023-06-26T04:04:04.715Z"
   },
   {
    "duration": 32,
    "start_time": "2023-06-26T04:04:04.796Z"
   },
   {
    "duration": 29,
    "start_time": "2023-06-26T04:04:04.830Z"
   },
   {
    "duration": 87,
    "start_time": "2023-06-26T04:04:04.862Z"
   },
   {
    "duration": 19,
    "start_time": "2023-06-26T04:04:04.951Z"
   },
   {
    "duration": 63,
    "start_time": "2023-06-26T04:04:04.972Z"
   },
   {
    "duration": 14,
    "start_time": "2023-06-26T04:04:05.037Z"
   },
   {
    "duration": 35,
    "start_time": "2023-06-26T04:04:05.052Z"
   },
   {
    "duration": 320,
    "start_time": "2023-06-26T04:04:05.089Z"
   },
   {
    "duration": 325,
    "start_time": "2023-06-26T04:04:05.412Z"
   },
   {
    "duration": 222,
    "start_time": "2023-06-26T04:04:05.738Z"
   },
   {
    "duration": 310,
    "start_time": "2023-06-26T04:04:05.963Z"
   },
   {
    "duration": 248,
    "start_time": "2023-06-26T04:04:06.277Z"
   },
   {
    "duration": 290,
    "start_time": "2023-06-26T04:04:06.527Z"
   },
   {
    "duration": 11,
    "start_time": "2023-06-26T04:04:06.818Z"
   },
   {
    "duration": 159,
    "start_time": "2023-06-26T04:04:06.832Z"
   },
   {
    "duration": 9,
    "start_time": "2023-06-26T04:04:06.995Z"
   },
   {
    "duration": 167,
    "start_time": "2023-06-26T04:04:07.014Z"
   },
   {
    "duration": 5,
    "start_time": "2023-06-26T04:04:07.183Z"
   },
   {
    "duration": 240,
    "start_time": "2023-06-26T04:04:07.189Z"
   },
   {
    "duration": 205,
    "start_time": "2023-06-26T04:04:07.430Z"
   },
   {
    "duration": 12,
    "start_time": "2023-06-26T04:04:07.637Z"
   },
   {
    "duration": 10,
    "start_time": "2023-06-26T04:04:07.651Z"
   },
   {
    "duration": 9,
    "start_time": "2023-06-26T04:04:07.664Z"
   },
   {
    "duration": 53,
    "start_time": "2023-06-26T04:04:07.675Z"
   },
   {
    "duration": 18,
    "start_time": "2023-06-26T04:04:07.730Z"
   },
   {
    "duration": 593,
    "start_time": "2023-06-26T04:04:07.750Z"
   },
   {
    "duration": 388,
    "start_time": "2023-06-26T04:04:08.345Z"
   },
   {
    "duration": 179,
    "start_time": "2023-06-26T04:06:36.616Z"
   },
   {
    "duration": 1007,
    "start_time": "2023-06-26T05:23:12.150Z"
   },
   {
    "duration": 118,
    "start_time": "2023-06-26T05:23:13.159Z"
   },
   {
    "duration": 10,
    "start_time": "2023-06-26T05:23:13.279Z"
   },
   {
    "duration": 13,
    "start_time": "2023-06-26T05:23:13.291Z"
   },
   {
    "duration": 119,
    "start_time": "2023-06-26T05:23:13.306Z"
   },
   {
    "duration": 72,
    "start_time": "2023-06-26T05:23:13.427Z"
   },
   {
    "duration": 139,
    "start_time": "2023-06-26T05:23:13.501Z"
   },
   {
    "duration": 11,
    "start_time": "2023-06-26T05:23:13.641Z"
   },
   {
    "duration": 128,
    "start_time": "2023-06-26T05:23:13.653Z"
   },
   {
    "duration": 288,
    "start_time": "2023-06-26T05:23:13.783Z"
   },
   {
    "duration": 291,
    "start_time": "2023-06-26T05:23:14.072Z"
   },
   {
    "duration": 220,
    "start_time": "2023-06-26T05:23:14.364Z"
   },
   {
    "duration": 307,
    "start_time": "2023-06-26T05:23:14.586Z"
   },
   {
    "duration": 228,
    "start_time": "2023-06-26T05:23:14.895Z"
   },
   {
    "duration": 332,
    "start_time": "2023-06-26T05:23:15.125Z"
   },
   {
    "duration": 10,
    "start_time": "2023-06-26T05:23:15.459Z"
   },
   {
    "duration": 121,
    "start_time": "2023-06-26T05:23:15.470Z"
   },
   {
    "duration": 4,
    "start_time": "2023-06-26T05:23:15.593Z"
   },
   {
    "duration": 155,
    "start_time": "2023-06-26T05:23:15.598Z"
   },
   {
    "duration": 3,
    "start_time": "2023-06-26T05:23:15.755Z"
   },
   {
    "duration": 212,
    "start_time": "2023-06-26T05:23:15.760Z"
   },
   {
    "duration": 174,
    "start_time": "2023-06-26T05:23:15.974Z"
   },
   {
    "duration": 9,
    "start_time": "2023-06-26T05:23:16.150Z"
   },
   {
    "duration": 10,
    "start_time": "2023-06-26T05:23:16.160Z"
   },
   {
    "duration": 13,
    "start_time": "2023-06-26T05:23:16.171Z"
   },
   {
    "duration": 30,
    "start_time": "2023-06-26T05:23:16.186Z"
   },
   {
    "duration": 29,
    "start_time": "2023-06-26T05:23:16.218Z"
   },
   {
    "duration": 594,
    "start_time": "2023-06-26T05:23:16.250Z"
   },
   {
    "duration": 404,
    "start_time": "2023-06-26T05:23:16.847Z"
   },
   {
    "duration": 68,
    "start_time": "2023-06-26T19:41:11.530Z"
   },
   {
    "duration": 1467,
    "start_time": "2023-06-26T19:41:17.204Z"
   },
   {
    "duration": 152,
    "start_time": "2023-06-26T19:41:18.674Z"
   },
   {
    "duration": 116,
    "start_time": "2023-06-26T19:41:18.827Z"
   },
   {
    "duration": 0,
    "start_time": "2023-06-26T19:41:18.945Z"
   },
   {
    "duration": 0,
    "start_time": "2023-06-26T19:41:18.947Z"
   },
   {
    "duration": 0,
    "start_time": "2023-06-26T19:41:18.948Z"
   },
   {
    "duration": 0,
    "start_time": "2023-06-26T19:41:18.949Z"
   },
   {
    "duration": 0,
    "start_time": "2023-06-26T19:41:18.954Z"
   },
   {
    "duration": 0,
    "start_time": "2023-06-26T19:41:18.961Z"
   },
   {
    "duration": 0,
    "start_time": "2023-06-26T19:41:18.962Z"
   },
   {
    "duration": 0,
    "start_time": "2023-06-26T19:41:18.963Z"
   },
   {
    "duration": 0,
    "start_time": "2023-06-26T19:41:18.964Z"
   },
   {
    "duration": 0,
    "start_time": "2023-06-26T19:41:18.967Z"
   },
   {
    "duration": 0,
    "start_time": "2023-06-26T19:41:18.970Z"
   },
   {
    "duration": 0,
    "start_time": "2023-06-26T19:41:18.971Z"
   },
   {
    "duration": 0,
    "start_time": "2023-06-26T19:41:18.972Z"
   },
   {
    "duration": 0,
    "start_time": "2023-06-26T19:41:18.973Z"
   },
   {
    "duration": 0,
    "start_time": "2023-06-26T19:41:18.974Z"
   },
   {
    "duration": 0,
    "start_time": "2023-06-26T19:41:18.975Z"
   },
   {
    "duration": 0,
    "start_time": "2023-06-26T19:41:18.976Z"
   },
   {
    "duration": 0,
    "start_time": "2023-06-26T19:41:18.977Z"
   },
   {
    "duration": 0,
    "start_time": "2023-06-26T19:41:18.978Z"
   },
   {
    "duration": 0,
    "start_time": "2023-06-26T19:41:18.980Z"
   },
   {
    "duration": 0,
    "start_time": "2023-06-26T19:41:18.981Z"
   },
   {
    "duration": 0,
    "start_time": "2023-06-26T19:41:18.982Z"
   },
   {
    "duration": 0,
    "start_time": "2023-06-26T19:41:18.984Z"
   },
   {
    "duration": 0,
    "start_time": "2023-06-26T19:41:18.985Z"
   },
   {
    "duration": 0,
    "start_time": "2023-06-26T19:41:18.987Z"
   },
   {
    "duration": 0,
    "start_time": "2023-06-26T19:41:18.988Z"
   },
   {
    "duration": 13,
    "start_time": "2023-06-26T19:46:22.511Z"
   },
   {
    "duration": 15,
    "start_time": "2023-06-26T19:46:57.426Z"
   },
   {
    "duration": 22,
    "start_time": "2023-06-26T19:47:06.147Z"
   },
   {
    "duration": 14,
    "start_time": "2023-06-26T19:48:16.777Z"
   },
   {
    "duration": 25,
    "start_time": "2023-06-26T19:48:27.554Z"
   },
   {
    "duration": 21,
    "start_time": "2023-06-26T19:49:01.079Z"
   },
   {
    "duration": 166,
    "start_time": "2023-06-26T20:08:35.621Z"
   },
   {
    "duration": 5,
    "start_time": "2023-06-26T20:08:48.980Z"
   },
   {
    "duration": 31,
    "start_time": "2023-06-26T20:08:53.301Z"
   },
   {
    "duration": 17,
    "start_time": "2023-06-26T20:09:06.946Z"
   },
   {
    "duration": 16,
    "start_time": "2023-06-26T20:09:22.997Z"
   },
   {
    "duration": 13,
    "start_time": "2023-06-26T20:12:18.523Z"
   },
   {
    "duration": 31,
    "start_time": "2023-06-26T20:12:28.114Z"
   },
   {
    "duration": 11,
    "start_time": "2023-06-26T20:12:31.921Z"
   },
   {
    "duration": 1163,
    "start_time": "2023-06-26T20:12:40.547Z"
   },
   {
    "duration": 100,
    "start_time": "2023-06-26T20:12:41.712Z"
   },
   {
    "duration": 14,
    "start_time": "2023-06-26T20:12:41.813Z"
   },
   {
    "duration": 46,
    "start_time": "2023-06-26T20:12:41.828Z"
   },
   {
    "duration": 140,
    "start_time": "2023-06-26T20:12:41.878Z"
   },
   {
    "duration": 21,
    "start_time": "2023-06-26T20:12:42.020Z"
   },
   {
    "duration": 96,
    "start_time": "2023-06-26T20:12:42.042Z"
   },
   {
    "duration": 11,
    "start_time": "2023-06-26T20:12:42.140Z"
   },
   {
    "duration": 10,
    "start_time": "2023-06-26T20:12:42.152Z"
   },
   {
    "duration": 351,
    "start_time": "2023-06-26T20:12:42.163Z"
   },
   {
    "duration": 363,
    "start_time": "2023-06-26T20:12:42.517Z"
   },
   {
    "duration": 241,
    "start_time": "2023-06-26T20:12:42.888Z"
   },
   {
    "duration": 381,
    "start_time": "2023-06-26T20:12:43.131Z"
   },
   {
    "duration": 297,
    "start_time": "2023-06-26T20:12:43.514Z"
   },
   {
    "duration": 371,
    "start_time": "2023-06-26T20:12:43.813Z"
   },
   {
    "duration": 15,
    "start_time": "2023-06-26T20:12:44.186Z"
   },
   {
    "duration": 146,
    "start_time": "2023-06-26T20:12:44.203Z"
   },
   {
    "duration": 14,
    "start_time": "2023-06-26T20:12:44.351Z"
   },
   {
    "duration": 222,
    "start_time": "2023-06-26T20:12:44.367Z"
   },
   {
    "duration": 4,
    "start_time": "2023-06-26T20:12:44.592Z"
   },
   {
    "duration": 265,
    "start_time": "2023-06-26T20:12:44.597Z"
   },
   {
    "duration": 243,
    "start_time": "2023-06-26T20:12:44.869Z"
   },
   {
    "duration": 12,
    "start_time": "2023-06-26T20:12:45.114Z"
   },
   {
    "duration": 19,
    "start_time": "2023-06-26T20:12:45.128Z"
   },
   {
    "duration": 35,
    "start_time": "2023-06-26T20:12:45.149Z"
   },
   {
    "duration": 29,
    "start_time": "2023-06-26T20:12:45.187Z"
   },
   {
    "duration": 16,
    "start_time": "2023-06-26T20:12:45.217Z"
   },
   {
    "duration": 689,
    "start_time": "2023-06-26T20:12:45.235Z"
   },
   {
    "duration": 471,
    "start_time": "2023-06-26T20:12:45.926Z"
   },
   {
    "duration": 14,
    "start_time": "2023-06-26T20:13:20.937Z"
   },
   {
    "duration": 7,
    "start_time": "2023-06-26T20:13:28.170Z"
   },
   {
    "duration": 64,
    "start_time": "2023-06-26T20:13:29.345Z"
   },
   {
    "duration": 14,
    "start_time": "2023-06-26T20:13:31.635Z"
   },
   {
    "duration": 5,
    "start_time": "2023-06-26T21:07:52.604Z"
   },
   {
    "duration": 108,
    "start_time": "2023-06-26T21:08:05.896Z"
   },
   {
    "duration": 11,
    "start_time": "2023-06-26T21:08:18.813Z"
   },
   {
    "duration": 5,
    "start_time": "2023-06-26T21:11:44.109Z"
   },
   {
    "duration": 5,
    "start_time": "2023-06-26T21:11:49.419Z"
   },
   {
    "duration": 11,
    "start_time": "2023-06-26T21:13:32.616Z"
   },
   {
    "duration": 8,
    "start_time": "2023-06-26T21:13:33.435Z"
   },
   {
    "duration": 566,
    "start_time": "2023-06-26T21:14:20.157Z"
   },
   {
    "duration": 22,
    "start_time": "2023-06-26T21:14:33.380Z"
   },
   {
    "duration": 13,
    "start_time": "2023-06-26T21:14:37.298Z"
   },
   {
    "duration": 1588,
    "start_time": "2023-06-26T21:16:00.215Z"
   },
   {
    "duration": 1480,
    "start_time": "2023-06-26T21:16:11.200Z"
   },
   {
    "duration": 1415,
    "start_time": "2023-06-26T21:16:25.960Z"
   },
   {
    "duration": 10,
    "start_time": "2023-06-26T21:16:46.816Z"
   },
   {
    "duration": 8,
    "start_time": "2023-06-26T21:16:50.892Z"
   },
   {
    "duration": 10,
    "start_time": "2023-06-26T21:17:32.189Z"
   },
   {
    "duration": 1119,
    "start_time": "2023-06-26T21:18:23.882Z"
   },
   {
    "duration": 107,
    "start_time": "2023-06-26T21:18:25.003Z"
   },
   {
    "duration": 16,
    "start_time": "2023-06-26T21:18:25.112Z"
   },
   {
    "duration": 28,
    "start_time": "2023-06-26T21:18:25.130Z"
   },
   {
    "duration": 79,
    "start_time": "2023-06-26T21:18:25.165Z"
   },
   {
    "duration": 39,
    "start_time": "2023-06-26T21:18:25.247Z"
   },
   {
    "duration": 10,
    "start_time": "2023-06-26T21:18:25.288Z"
   },
   {
    "duration": 10,
    "start_time": "2023-06-26T21:18:25.299Z"
   },
   {
    "duration": 35,
    "start_time": "2023-06-26T21:18:25.310Z"
   },
   {
    "duration": 23,
    "start_time": "2023-06-26T21:18:25.346Z"
   },
   {
    "duration": 7,
    "start_time": "2023-06-26T21:18:25.381Z"
   },
   {
    "duration": 308,
    "start_time": "2023-06-26T21:18:25.391Z"
   },
   {
    "duration": 351,
    "start_time": "2023-06-26T21:18:25.701Z"
   },
   {
    "duration": 256,
    "start_time": "2023-06-26T21:18:26.055Z"
   },
   {
    "duration": 353,
    "start_time": "2023-06-26T21:18:26.313Z"
   },
   {
    "duration": 272,
    "start_time": "2023-06-26T21:18:26.668Z"
   },
   {
    "duration": 385,
    "start_time": "2023-06-26T21:18:26.942Z"
   },
   {
    "duration": 28,
    "start_time": "2023-06-26T21:18:27.330Z"
   },
   {
    "duration": 151,
    "start_time": "2023-06-26T21:18:27.362Z"
   },
   {
    "duration": 6,
    "start_time": "2023-06-26T21:18:27.515Z"
   },
   {
    "duration": 205,
    "start_time": "2023-06-26T21:18:27.523Z"
   },
   {
    "duration": 6,
    "start_time": "2023-06-26T21:18:27.729Z"
   },
   {
    "duration": 262,
    "start_time": "2023-06-26T21:18:27.737Z"
   },
   {
    "duration": 196,
    "start_time": "2023-06-26T21:18:28.001Z"
   },
   {
    "duration": 11,
    "start_time": "2023-06-26T21:18:28.199Z"
   },
   {
    "duration": 12,
    "start_time": "2023-06-26T21:18:28.211Z"
   },
   {
    "duration": 34,
    "start_time": "2023-06-26T21:18:28.225Z"
   },
   {
    "duration": 39,
    "start_time": "2023-06-26T21:18:28.261Z"
   },
   {
    "duration": 15,
    "start_time": "2023-06-26T21:18:28.302Z"
   },
   {
    "duration": 696,
    "start_time": "2023-06-26T21:18:28.319Z"
   },
   {
    "duration": 459,
    "start_time": "2023-06-26T21:18:29.016Z"
   },
   {
    "duration": 1197,
    "start_time": "2023-06-26T22:23:57.299Z"
   },
   {
    "duration": 99,
    "start_time": "2023-06-26T22:23:58.498Z"
   },
   {
    "duration": 13,
    "start_time": "2023-06-26T22:23:58.598Z"
   },
   {
    "duration": 14,
    "start_time": "2023-06-26T22:23:58.613Z"
   },
   {
    "duration": 79,
    "start_time": "2023-06-26T22:23:58.629Z"
   },
   {
    "duration": 23,
    "start_time": "2023-06-26T22:23:58.710Z"
   },
   {
    "duration": 12,
    "start_time": "2023-06-26T22:23:58.735Z"
   },
   {
    "duration": 16,
    "start_time": "2023-06-26T22:23:58.748Z"
   },
   {
    "duration": 41,
    "start_time": "2023-06-26T22:23:58.770Z"
   },
   {
    "duration": 13,
    "start_time": "2023-06-26T22:23:58.812Z"
   },
   {
    "duration": 6,
    "start_time": "2023-06-26T22:23:58.827Z"
   },
   {
    "duration": 348,
    "start_time": "2023-06-26T22:23:58.835Z"
   },
   {
    "duration": 339,
    "start_time": "2023-06-26T22:23:59.185Z"
   },
   {
    "duration": 244,
    "start_time": "2023-06-26T22:23:59.527Z"
   },
   {
    "duration": 326,
    "start_time": "2023-06-26T22:23:59.773Z"
   },
   {
    "duration": 289,
    "start_time": "2023-06-26T22:24:00.101Z"
   },
   {
    "duration": 327,
    "start_time": "2023-06-26T22:24:00.392Z"
   },
   {
    "duration": 12,
    "start_time": "2023-06-26T22:24:00.722Z"
   },
   {
    "duration": 166,
    "start_time": "2023-06-26T22:24:00.736Z"
   },
   {
    "duration": 5,
    "start_time": "2023-06-26T22:24:00.905Z"
   },
   {
    "duration": 206,
    "start_time": "2023-06-26T22:24:00.911Z"
   },
   {
    "duration": 5,
    "start_time": "2023-06-26T22:24:01.119Z"
   },
   {
    "duration": 270,
    "start_time": "2023-06-26T22:24:01.126Z"
   },
   {
    "duration": 197,
    "start_time": "2023-06-26T22:24:01.398Z"
   },
   {
    "duration": 11,
    "start_time": "2023-06-26T22:24:01.597Z"
   },
   {
    "duration": 23,
    "start_time": "2023-06-26T22:24:01.610Z"
   },
   {
    "duration": 52,
    "start_time": "2023-06-26T22:24:01.635Z"
   },
   {
    "duration": 54,
    "start_time": "2023-06-26T22:24:01.689Z"
   },
   {
    "duration": 18,
    "start_time": "2023-06-26T22:24:01.744Z"
   },
   {
    "duration": 665,
    "start_time": "2023-06-26T22:24:01.764Z"
   },
   {
    "duration": 466,
    "start_time": "2023-06-26T22:24:02.431Z"
   },
   {
    "duration": 146,
    "start_time": "2023-06-26T22:24:32.326Z"
   },
   {
    "duration": 7,
    "start_time": "2023-06-26T22:24:41.717Z"
   },
   {
    "duration": 12,
    "start_time": "2023-06-26T22:30:57.910Z"
   },
   {
    "duration": 5,
    "start_time": "2023-06-26T22:31:03.618Z"
   },
   {
    "duration": 15,
    "start_time": "2023-06-26T22:31:09.868Z"
   },
   {
    "duration": 5,
    "start_time": "2023-06-26T22:32:00.906Z"
   },
   {
    "duration": 5,
    "start_time": "2023-06-26T22:36:20.698Z"
   },
   {
    "duration": 5,
    "start_time": "2023-06-26T22:36:40.698Z"
   },
   {
    "duration": 5,
    "start_time": "2023-06-26T22:37:04.527Z"
   },
   {
    "duration": 6,
    "start_time": "2023-06-26T22:37:33.547Z"
   },
   {
    "duration": 6,
    "start_time": "2023-06-26T22:39:01.024Z"
   },
   {
    "duration": 6,
    "start_time": "2023-06-26T22:39:11.338Z"
   },
   {
    "duration": 225,
    "start_time": "2023-06-26T22:40:16.188Z"
   },
   {
    "duration": 10,
    "start_time": "2023-06-26T22:40:34.567Z"
   },
   {
    "duration": 252,
    "start_time": "2023-06-26T22:43:16.246Z"
   },
   {
    "duration": 233,
    "start_time": "2023-06-26T22:44:49.598Z"
   },
   {
    "duration": 260,
    "start_time": "2023-06-26T22:45:59.825Z"
   },
   {
    "duration": 350,
    "start_time": "2023-06-26T22:46:22.562Z"
   },
   {
    "duration": 353,
    "start_time": "2023-06-26T22:46:44.047Z"
   },
   {
    "duration": 247,
    "start_time": "2023-06-26T22:47:30.623Z"
   },
   {
    "duration": 344,
    "start_time": "2023-06-26T22:47:48.217Z"
   },
   {
    "duration": 200,
    "start_time": "2023-06-26T22:48:29.292Z"
   },
   {
    "duration": 352,
    "start_time": "2023-06-26T22:48:38.547Z"
   },
   {
    "duration": 152,
    "start_time": "2023-06-26T22:49:29.894Z"
   },
   {
    "duration": 238,
    "start_time": "2023-06-26T22:50:10.453Z"
   },
   {
    "duration": 143,
    "start_time": "2023-06-26T22:51:53.077Z"
   },
   {
    "duration": 146,
    "start_time": "2023-06-26T22:52:16.281Z"
   },
   {
    "duration": 189,
    "start_time": "2023-06-26T22:53:02.824Z"
   },
   {
    "duration": 167,
    "start_time": "2023-06-26T22:53:51.078Z"
   },
   {
    "duration": 87,
    "start_time": "2023-06-26T22:54:12.606Z"
   },
   {
    "duration": 168,
    "start_time": "2023-06-26T23:51:56.073Z"
   },
   {
    "duration": 168,
    "start_time": "2023-06-26T23:53:35.510Z"
   },
   {
    "duration": 170,
    "start_time": "2023-06-26T23:53:55.712Z"
   },
   {
    "duration": 187,
    "start_time": "2023-06-26T23:54:06.646Z"
   },
   {
    "duration": 166,
    "start_time": "2023-06-26T23:54:20.933Z"
   },
   {
    "duration": 163,
    "start_time": "2023-06-26T23:57:51.499Z"
   },
   {
    "duration": 11,
    "start_time": "2023-06-26T23:59:52.731Z"
   },
   {
    "duration": 13,
    "start_time": "2023-06-27T00:00:12.227Z"
   },
   {
    "duration": 12,
    "start_time": "2023-06-27T00:00:20.879Z"
   },
   {
    "duration": 13,
    "start_time": "2023-06-27T00:00:42.550Z"
   },
   {
    "duration": 12,
    "start_time": "2023-06-27T00:00:51.026Z"
   },
   {
    "duration": 1035,
    "start_time": "2023-06-27T00:00:57.790Z"
   },
   {
    "duration": 91,
    "start_time": "2023-06-27T00:00:58.826Z"
   },
   {
    "duration": 14,
    "start_time": "2023-06-27T00:00:58.919Z"
   },
   {
    "duration": 29,
    "start_time": "2023-06-27T00:00:58.935Z"
   },
   {
    "duration": 65,
    "start_time": "2023-06-27T00:00:58.965Z"
   },
   {
    "duration": 21,
    "start_time": "2023-06-27T00:00:59.032Z"
   },
   {
    "duration": 5,
    "start_time": "2023-06-27T00:00:59.054Z"
   },
   {
    "duration": 8,
    "start_time": "2023-06-27T00:00:59.061Z"
   },
   {
    "duration": 6,
    "start_time": "2023-06-27T00:00:59.071Z"
   },
   {
    "duration": 26,
    "start_time": "2023-06-27T00:00:59.080Z"
   },
   {
    "duration": 11,
    "start_time": "2023-06-27T00:00:59.108Z"
   },
   {
    "duration": 7,
    "start_time": "2023-06-27T00:00:59.121Z"
   },
   {
    "duration": 325,
    "start_time": "2023-06-27T00:00:59.130Z"
   },
   {
    "duration": 7,
    "start_time": "2023-06-27T00:00:59.456Z"
   },
   {
    "duration": 311,
    "start_time": "2023-06-27T00:00:59.464Z"
   },
   {
    "duration": 244,
    "start_time": "2023-06-27T00:00:59.776Z"
   },
   {
    "duration": 369,
    "start_time": "2023-06-27T00:01:00.021Z"
   },
   {
    "duration": 261,
    "start_time": "2023-06-27T00:01:00.393Z"
   },
   {
    "duration": 343,
    "start_time": "2023-06-27T00:01:00.656Z"
   },
   {
    "duration": 10,
    "start_time": "2023-06-27T00:01:01.002Z"
   },
   {
    "duration": 162,
    "start_time": "2023-06-27T00:01:01.014Z"
   },
   {
    "duration": 4,
    "start_time": "2023-06-27T00:01:01.178Z"
   },
   {
    "duration": 207,
    "start_time": "2023-06-27T00:01:01.184Z"
   },
   {
    "duration": 184,
    "start_time": "2023-06-27T00:01:01.392Z"
   },
   {
    "duration": 5,
    "start_time": "2023-06-27T00:01:01.578Z"
   },
   {
    "duration": 239,
    "start_time": "2023-06-27T00:01:01.584Z"
   },
   {
    "duration": 179,
    "start_time": "2023-06-27T00:01:01.825Z"
   },
   {
    "duration": 12,
    "start_time": "2023-06-27T00:01:02.007Z"
   },
   {
    "duration": 13,
    "start_time": "2023-06-27T00:01:02.020Z"
   },
   {
    "duration": 25,
    "start_time": "2023-06-27T00:01:02.034Z"
   },
   {
    "duration": 66,
    "start_time": "2023-06-27T00:01:02.061Z"
   },
   {
    "duration": 14,
    "start_time": "2023-06-27T00:01:02.129Z"
   },
   {
    "duration": 732,
    "start_time": "2023-06-27T00:01:02.145Z"
   },
   {
    "duration": 324,
    "start_time": "2023-06-27T00:01:02.879Z"
   },
   {
    "duration": 168,
    "start_time": "2023-06-27T00:01:38.422Z"
   },
   {
    "duration": 168,
    "start_time": "2023-06-27T00:01:52.430Z"
   },
   {
    "duration": 170,
    "start_time": "2023-06-27T00:02:09.813Z"
   },
   {
    "duration": 173,
    "start_time": "2023-06-27T00:02:15.935Z"
   },
   {
    "duration": 137,
    "start_time": "2023-06-27T00:02:38.377Z"
   },
   {
    "duration": 172,
    "start_time": "2023-06-27T00:02:43.477Z"
   },
   {
    "duration": 171,
    "start_time": "2023-06-27T00:02:49.199Z"
   },
   {
    "duration": 246,
    "start_time": "2023-06-27T00:03:16.297Z"
   },
   {
    "duration": 172,
    "start_time": "2023-06-27T00:03:29.564Z"
   },
   {
    "duration": 177,
    "start_time": "2023-06-27T00:03:37.387Z"
   },
   {
    "duration": 165,
    "start_time": "2023-06-27T00:05:11.713Z"
   },
   {
    "duration": 168,
    "start_time": "2023-06-27T00:05:26.795Z"
   },
   {
    "duration": 270,
    "start_time": "2023-06-27T00:05:42.164Z"
   },
   {
    "duration": 186,
    "start_time": "2023-06-27T00:06:33.867Z"
   },
   {
    "duration": 172,
    "start_time": "2023-06-27T00:06:41.599Z"
   },
   {
    "duration": 13,
    "start_time": "2023-06-27T00:14:11.292Z"
   },
   {
    "duration": 173,
    "start_time": "2023-06-27T00:14:17.344Z"
   },
   {
    "duration": 12,
    "start_time": "2023-06-27T00:14:22.150Z"
   },
   {
    "duration": 10,
    "start_time": "2023-06-27T00:14:25.346Z"
   },
   {
    "duration": 9,
    "start_time": "2023-06-27T00:14:28.803Z"
   },
   {
    "duration": 24,
    "start_time": "2023-06-27T00:14:32.049Z"
   },
   {
    "duration": 13,
    "start_time": "2023-06-27T00:14:35.382Z"
   },
   {
    "duration": 584,
    "start_time": "2023-06-27T00:14:38.598Z"
   },
   {
    "duration": 80,
    "start_time": "2023-06-27T00:22:52.708Z"
   },
   {
    "duration": 87,
    "start_time": "2023-06-27T00:23:08.307Z"
   },
   {
    "duration": 151,
    "start_time": "2023-06-27T00:24:14.312Z"
   },
   {
    "duration": 156,
    "start_time": "2023-06-27T00:24:51.048Z"
   },
   {
    "duration": 164,
    "start_time": "2023-06-27T00:25:20.753Z"
   },
   {
    "duration": 15,
    "start_time": "2023-06-27T00:37:37.016Z"
   },
   {
    "duration": 10,
    "start_time": "2023-06-27T00:37:50.074Z"
   },
   {
    "duration": 11,
    "start_time": "2023-06-27T00:39:00.145Z"
   },
   {
    "duration": 11,
    "start_time": "2023-06-27T00:39:51.381Z"
   },
   {
    "duration": 14,
    "start_time": "2023-06-27T00:40:50.891Z"
   },
   {
    "duration": 10,
    "start_time": "2023-06-27T00:42:14.408Z"
   },
   {
    "duration": 14,
    "start_time": "2023-06-27T00:43:26.092Z"
   },
   {
    "duration": 579,
    "start_time": "2023-06-27T00:44:07.934Z"
   },
   {
    "duration": 319,
    "start_time": "2023-06-27T00:44:57.712Z"
   },
   {
    "duration": 309,
    "start_time": "2023-06-27T00:45:31.906Z"
   },
   {
    "duration": 22,
    "start_time": "2023-06-27T00:47:35.962Z"
   },
   {
    "duration": 1091,
    "start_time": "2023-06-27T00:53:34.224Z"
   },
   {
    "duration": 93,
    "start_time": "2023-06-27T00:53:35.317Z"
   },
   {
    "duration": 14,
    "start_time": "2023-06-27T00:53:35.411Z"
   },
   {
    "duration": 13,
    "start_time": "2023-06-27T00:53:35.427Z"
   },
   {
    "duration": 60,
    "start_time": "2023-06-27T00:53:35.455Z"
   },
   {
    "duration": 23,
    "start_time": "2023-06-27T00:53:35.517Z"
   },
   {
    "duration": 4,
    "start_time": "2023-06-27T00:53:35.542Z"
   },
   {
    "duration": 14,
    "start_time": "2023-06-27T00:53:35.548Z"
   },
   {
    "duration": 7,
    "start_time": "2023-06-27T00:53:35.564Z"
   },
   {
    "duration": 28,
    "start_time": "2023-06-27T00:53:35.573Z"
   },
   {
    "duration": 11,
    "start_time": "2023-06-27T00:53:35.602Z"
   },
   {
    "duration": 10,
    "start_time": "2023-06-27T00:53:35.615Z"
   },
   {
    "duration": 307,
    "start_time": "2023-06-27T00:53:35.627Z"
   },
   {
    "duration": 5,
    "start_time": "2023-06-27T00:53:35.937Z"
   },
   {
    "duration": 314,
    "start_time": "2023-06-27T00:53:35.954Z"
   },
   {
    "duration": 245,
    "start_time": "2023-06-27T00:53:36.270Z"
   },
   {
    "duration": 366,
    "start_time": "2023-06-27T00:53:36.518Z"
   },
   {
    "duration": 240,
    "start_time": "2023-06-27T00:53:36.886Z"
   },
   {
    "duration": 358,
    "start_time": "2023-06-27T00:53:37.127Z"
   },
   {
    "duration": 9,
    "start_time": "2023-06-27T00:53:37.487Z"
   },
   {
    "duration": 145,
    "start_time": "2023-06-27T00:53:37.498Z"
   },
   {
    "duration": 9,
    "start_time": "2023-06-27T00:53:37.645Z"
   },
   {
    "duration": 186,
    "start_time": "2023-06-27T00:53:37.655Z"
   },
   {
    "duration": 181,
    "start_time": "2023-06-27T00:53:37.843Z"
   },
   {
    "duration": 5,
    "start_time": "2023-06-27T00:53:38.025Z"
   },
   {
    "duration": 27,
    "start_time": "2023-06-27T00:53:38.031Z"
   },
   {
    "duration": 164,
    "start_time": "2023-06-27T00:53:38.059Z"
   },
   {
    "duration": 10,
    "start_time": "2023-06-27T00:53:38.225Z"
   },
   {
    "duration": 26,
    "start_time": "2023-06-27T00:53:38.236Z"
   },
   {
    "duration": 7,
    "start_time": "2023-06-27T00:53:38.264Z"
   },
   {
    "duration": 23,
    "start_time": "2023-06-27T00:53:38.273Z"
   },
   {
    "duration": 15,
    "start_time": "2023-06-27T00:53:38.298Z"
   },
   {
    "duration": 633,
    "start_time": "2023-06-27T00:53:38.315Z"
   },
   {
    "duration": 437,
    "start_time": "2023-06-27T00:53:38.954Z"
   },
   {
    "duration": 1513,
    "start_time": "2023-06-27T04:28:50.028Z"
   },
   {
    "duration": 198,
    "start_time": "2023-06-27T04:28:51.544Z"
   },
   {
    "duration": 29,
    "start_time": "2023-06-27T04:28:51.744Z"
   },
   {
    "duration": 59,
    "start_time": "2023-06-27T04:28:51.781Z"
   },
   {
    "duration": 159,
    "start_time": "2023-06-27T04:28:51.842Z"
   },
   {
    "duration": 29,
    "start_time": "2023-06-27T04:28:52.007Z"
   },
   {
    "duration": 6,
    "start_time": "2023-06-27T04:28:52.038Z"
   },
   {
    "duration": 52,
    "start_time": "2023-06-27T04:28:52.046Z"
   },
   {
    "duration": 39,
    "start_time": "2023-06-27T04:28:52.101Z"
   },
   {
    "duration": 128,
    "start_time": "2023-06-27T04:28:52.143Z"
   },
   {
    "duration": 16,
    "start_time": "2023-06-27T04:28:52.273Z"
   },
   {
    "duration": 42,
    "start_time": "2023-06-27T04:28:52.291Z"
   },
   {
    "duration": 425,
    "start_time": "2023-06-27T04:28:52.335Z"
   },
   {
    "duration": 35,
    "start_time": "2023-06-27T04:28:52.768Z"
   },
   {
    "duration": 461,
    "start_time": "2023-06-27T04:28:52.810Z"
   },
   {
    "duration": 288,
    "start_time": "2023-06-27T04:28:53.274Z"
   },
   {
    "duration": 371,
    "start_time": "2023-06-27T04:28:53.564Z"
   },
   {
    "duration": 343,
    "start_time": "2023-06-27T04:28:53.938Z"
   },
   {
    "duration": 394,
    "start_time": "2023-06-27T04:28:54.283Z"
   },
   {
    "duration": 28,
    "start_time": "2023-06-27T04:28:54.684Z"
   },
   {
    "duration": 189,
    "start_time": "2023-06-27T04:28:54.722Z"
   },
   {
    "duration": 11,
    "start_time": "2023-06-27T04:28:54.920Z"
   },
   {
    "duration": 241,
    "start_time": "2023-06-27T04:28:54.935Z"
   },
   {
    "duration": 241,
    "start_time": "2023-06-27T04:28:55.178Z"
   },
   {
    "duration": 19,
    "start_time": "2023-06-27T04:28:55.426Z"
   },
   {
    "duration": 123,
    "start_time": "2023-06-27T04:28:55.447Z"
   },
   {
    "duration": 262,
    "start_time": "2023-06-27T04:28:55.576Z"
   },
   {
    "duration": 32,
    "start_time": "2023-06-27T04:28:55.842Z"
   },
   {
    "duration": 68,
    "start_time": "2023-06-27T04:28:55.875Z"
   },
   {
    "duration": 102,
    "start_time": "2023-06-27T04:28:55.946Z"
   },
   {
    "duration": 127,
    "start_time": "2023-06-27T04:28:56.050Z"
   },
   {
    "duration": 32,
    "start_time": "2023-06-27T04:28:56.191Z"
   },
   {
    "duration": 738,
    "start_time": "2023-06-27T04:28:56.229Z"
   },
   {
    "duration": 514,
    "start_time": "2023-06-27T04:28:56.977Z"
   },
   {
    "duration": 17,
    "start_time": "2023-06-27T04:30:50.073Z"
   },
   {
    "duration": 164,
    "start_time": "2023-06-27T04:32:24.830Z"
   },
   {
    "duration": 38,
    "start_time": "2023-06-27T04:32:28.466Z"
   },
   {
    "duration": 10,
    "start_time": "2023-06-27T04:32:49.223Z"
   },
   {
    "duration": 7,
    "start_time": "2023-06-27T04:32:51.426Z"
   },
   {
    "duration": 1196,
    "start_time": "2023-06-27T04:33:06.831Z"
   },
   {
    "duration": 156,
    "start_time": "2023-06-27T04:33:08.029Z"
   },
   {
    "duration": 23,
    "start_time": "2023-06-27T04:33:08.200Z"
   },
   {
    "duration": 20,
    "start_time": "2023-06-27T04:33:08.226Z"
   },
   {
    "duration": 125,
    "start_time": "2023-06-27T04:33:08.249Z"
   },
   {
    "duration": 37,
    "start_time": "2023-06-27T04:33:08.380Z"
   },
   {
    "duration": 15,
    "start_time": "2023-06-27T04:33:08.419Z"
   },
   {
    "duration": 28,
    "start_time": "2023-06-27T04:33:08.436Z"
   },
   {
    "duration": 56,
    "start_time": "2023-06-27T04:33:08.468Z"
   },
   {
    "duration": 44,
    "start_time": "2023-06-27T04:33:08.527Z"
   },
   {
    "duration": 29,
    "start_time": "2023-06-27T04:33:08.574Z"
   },
   {
    "duration": 33,
    "start_time": "2023-06-27T04:33:08.607Z"
   },
   {
    "duration": 396,
    "start_time": "2023-06-27T04:33:08.642Z"
   },
   {
    "duration": 14,
    "start_time": "2023-06-27T04:33:09.040Z"
   },
   {
    "duration": 430,
    "start_time": "2023-06-27T04:33:09.055Z"
   },
   {
    "duration": 262,
    "start_time": "2023-06-27T04:33:09.487Z"
   },
   {
    "duration": 403,
    "start_time": "2023-06-27T04:33:09.751Z"
   },
   {
    "duration": 302,
    "start_time": "2023-06-27T04:33:10.157Z"
   },
   {
    "duration": 399,
    "start_time": "2023-06-27T04:33:10.464Z"
   },
   {
    "duration": 16,
    "start_time": "2023-06-27T04:33:10.872Z"
   },
   {
    "duration": 190,
    "start_time": "2023-06-27T04:33:10.892Z"
   },
   {
    "duration": 5,
    "start_time": "2023-06-27T04:33:11.085Z"
   },
   {
    "duration": 215,
    "start_time": "2023-06-27T04:33:11.092Z"
   },
   {
    "duration": 220,
    "start_time": "2023-06-27T04:33:11.311Z"
   },
   {
    "duration": 4,
    "start_time": "2023-06-27T04:33:11.533Z"
   },
   {
    "duration": 60,
    "start_time": "2023-06-27T04:33:11.539Z"
   },
   {
    "duration": 219,
    "start_time": "2023-06-27T04:33:11.607Z"
   },
   {
    "duration": 11,
    "start_time": "2023-06-27T04:33:11.829Z"
   },
   {
    "duration": 20,
    "start_time": "2023-06-27T04:33:11.842Z"
   },
   {
    "duration": 53,
    "start_time": "2023-06-27T04:33:11.867Z"
   },
   {
    "duration": 46,
    "start_time": "2023-06-27T04:33:11.922Z"
   },
   {
    "duration": 19,
    "start_time": "2023-06-27T04:33:11.970Z"
   },
   {
    "duration": 727,
    "start_time": "2023-06-27T04:33:11.991Z"
   },
   {
    "duration": 498,
    "start_time": "2023-06-27T04:33:12.720Z"
   },
   {
    "duration": 145,
    "start_time": "2023-06-27T04:34:59.178Z"
   },
   {
    "duration": 8,
    "start_time": "2023-06-27T04:35:08.089Z"
   },
   {
    "duration": 12,
    "start_time": "2023-06-27T04:39:48.774Z"
   },
   {
    "duration": 75,
    "start_time": "2023-06-27T20:05:42.348Z"
   },
   {
    "duration": 1843,
    "start_time": "2023-06-27T20:05:47.986Z"
   },
   {
    "duration": 177,
    "start_time": "2023-06-27T20:05:49.832Z"
   },
   {
    "duration": 15,
    "start_time": "2023-06-27T20:05:50.011Z"
   },
   {
    "duration": 14,
    "start_time": "2023-06-27T20:05:50.029Z"
   },
   {
    "duration": 116,
    "start_time": "2023-06-27T20:05:50.054Z"
   },
   {
    "duration": 29,
    "start_time": "2023-06-27T20:05:50.173Z"
   },
   {
    "duration": 5,
    "start_time": "2023-06-27T20:05:50.204Z"
   },
   {
    "duration": 12,
    "start_time": "2023-06-27T20:05:50.211Z"
   },
   {
    "duration": 31,
    "start_time": "2023-06-27T20:05:50.226Z"
   },
   {
    "duration": 76,
    "start_time": "2023-06-27T20:05:50.260Z"
   },
   {
    "duration": 13,
    "start_time": "2023-06-27T20:05:50.338Z"
   },
   {
    "duration": 9,
    "start_time": "2023-06-27T20:05:50.357Z"
   },
   {
    "duration": 410,
    "start_time": "2023-06-27T20:05:50.370Z"
   },
   {
    "duration": 10,
    "start_time": "2023-06-27T20:05:50.786Z"
   },
   {
    "duration": 415,
    "start_time": "2023-06-27T20:05:50.797Z"
   },
   {
    "duration": 292,
    "start_time": "2023-06-27T20:05:51.214Z"
   },
   {
    "duration": 432,
    "start_time": "2023-06-27T20:05:51.509Z"
   },
   {
    "duration": 299,
    "start_time": "2023-06-27T20:05:51.943Z"
   },
   {
    "duration": 389,
    "start_time": "2023-06-27T20:05:52.244Z"
   },
   {
    "duration": 21,
    "start_time": "2023-06-27T20:05:52.634Z"
   },
   {
    "duration": 177,
    "start_time": "2023-06-27T20:05:52.661Z"
   },
   {
    "duration": 19,
    "start_time": "2023-06-27T20:05:52.839Z"
   },
   {
    "duration": 239,
    "start_time": "2023-06-27T20:05:52.860Z"
   },
   {
    "duration": 237,
    "start_time": "2023-06-27T20:05:53.101Z"
   },
   {
    "duration": 6,
    "start_time": "2023-06-27T20:05:53.340Z"
   },
   {
    "duration": 31,
    "start_time": "2023-06-27T20:05:53.348Z"
   },
   {
    "duration": 246,
    "start_time": "2023-06-27T20:05:53.382Z"
   },
   {
    "duration": 11,
    "start_time": "2023-06-27T20:05:53.630Z"
   },
   {
    "duration": 22,
    "start_time": "2023-06-27T20:05:53.643Z"
   },
   {
    "duration": 11,
    "start_time": "2023-06-27T20:05:53.667Z"
   },
   {
    "duration": 32,
    "start_time": "2023-06-27T20:05:53.680Z"
   },
   {
    "duration": 33,
    "start_time": "2023-06-27T20:05:53.714Z"
   },
   {
    "duration": 799,
    "start_time": "2023-06-27T20:05:53.749Z"
   },
   {
    "duration": 487,
    "start_time": "2023-06-27T20:05:54.555Z"
   },
   {
    "duration": 1255,
    "start_time": "2023-06-27T20:12:31.324Z"
   },
   {
    "duration": 101,
    "start_time": "2023-06-27T20:12:32.581Z"
   },
   {
    "duration": 18,
    "start_time": "2023-06-27T20:12:32.684Z"
   },
   {
    "duration": 19,
    "start_time": "2023-06-27T20:12:32.704Z"
   },
   {
    "duration": 66,
    "start_time": "2023-06-27T20:12:32.725Z"
   },
   {
    "duration": 22,
    "start_time": "2023-06-27T20:12:32.793Z"
   },
   {
    "duration": 7,
    "start_time": "2023-06-27T20:12:32.816Z"
   },
   {
    "duration": 11,
    "start_time": "2023-06-27T20:12:32.824Z"
   },
   {
    "duration": 22,
    "start_time": "2023-06-27T20:12:32.837Z"
   },
   {
    "duration": 41,
    "start_time": "2023-06-27T20:12:32.864Z"
   },
   {
    "duration": 16,
    "start_time": "2023-06-27T20:12:32.908Z"
   },
   {
    "duration": 10,
    "start_time": "2023-06-27T20:12:32.926Z"
   },
   {
    "duration": 400,
    "start_time": "2023-06-27T20:12:32.938Z"
   },
   {
    "duration": 23,
    "start_time": "2023-06-27T20:12:33.339Z"
   },
   {
    "duration": 392,
    "start_time": "2023-06-27T20:12:33.365Z"
   },
   {
    "duration": 271,
    "start_time": "2023-06-27T20:12:33.763Z"
   },
   {
    "duration": 389,
    "start_time": "2023-06-27T20:12:34.036Z"
   },
   {
    "duration": 316,
    "start_time": "2023-06-27T20:12:34.426Z"
   },
   {
    "duration": 398,
    "start_time": "2023-06-27T20:12:34.744Z"
   },
   {
    "duration": 17,
    "start_time": "2023-06-27T20:12:35.144Z"
   },
   {
    "duration": 185,
    "start_time": "2023-06-27T20:12:35.164Z"
   },
   {
    "duration": 10,
    "start_time": "2023-06-27T20:12:35.356Z"
   },
   {
    "duration": 251,
    "start_time": "2023-06-27T20:12:35.368Z"
   },
   {
    "duration": 262,
    "start_time": "2023-06-27T20:12:35.621Z"
   },
   {
    "duration": 6,
    "start_time": "2023-06-27T20:12:35.886Z"
   },
   {
    "duration": 31,
    "start_time": "2023-06-27T20:12:35.894Z"
   },
   {
    "duration": 278,
    "start_time": "2023-06-27T20:12:35.928Z"
   },
   {
    "duration": 13,
    "start_time": "2023-06-27T20:12:36.211Z"
   },
   {
    "duration": 31,
    "start_time": "2023-06-27T20:12:36.226Z"
   },
   {
    "duration": 28,
    "start_time": "2023-06-27T20:12:36.260Z"
   },
   {
    "duration": 32,
    "start_time": "2023-06-27T20:12:36.292Z"
   },
   {
    "duration": 17,
    "start_time": "2023-06-27T20:12:36.326Z"
   },
   {
    "duration": 773,
    "start_time": "2023-06-27T20:12:36.358Z"
   },
   {
    "duration": 559,
    "start_time": "2023-06-27T20:12:37.133Z"
   }
  ],
  "kernelspec": {
   "display_name": "Python 3 (ipykernel)",
   "language": "python",
   "name": "python3"
  },
  "language_info": {
   "codemirror_mode": {
    "name": "ipython",
    "version": 3
   },
   "file_extension": ".py",
   "mimetype": "text/x-python",
   "name": "python",
   "nbconvert_exporter": "python",
   "pygments_lexer": "ipython3",
   "version": "3.9.16"
  },
  "toc": {
   "base_numbering": 1,
   "nav_menu": {},
   "number_sections": true,
   "sideBar": true,
   "skip_h1_title": true,
   "title_cell": "Table of Contents",
   "title_sidebar": "Contents",
   "toc_cell": false,
   "toc_position": {
    "height": "calc(100% - 180px)",
    "left": "10px",
    "top": "150px",
    "width": "252.796875px"
   },
   "toc_section_display": true,
   "toc_window_display": true
  }
 },
 "nbformat": 4,
 "nbformat_minor": 2
}
